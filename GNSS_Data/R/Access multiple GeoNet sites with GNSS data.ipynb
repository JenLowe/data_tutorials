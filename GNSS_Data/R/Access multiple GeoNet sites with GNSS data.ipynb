{
 "cells": [
  {
   "cell_type": "markdown",
   "metadata": {},
   "source": [
    "# Using the language R to access multiple GeoNet sites with GNSS data"
   ]
  },
  {
   "cell_type": "markdown",
   "metadata": {},
   "source": [
    "## &nbsp; Table of contents"
   ]
  },
  {
   "cell_type": "markdown",
   "metadata": {},
   "source": [
    "### 1. Introduction\n",
    "### 2. Set Up \n",
    "### 3. Define point of interest\n",
    "### 4. Get site data\n",
    "### 5. Map sites\n",
    "### 6. Get GNSS for all sites\n",
    "### 7. Plot data \n",
    "### 8. Save data"
   ]
  },
  {
   "cell_type": "markdown",
   "metadata": {},
   "source": [
    "## &nbsp; 1. Introduction"
   ]
  },
  {
   "cell_type": "markdown",
   "metadata": {},
   "source": [
    "In this tutorial we will be learning how to use the language R to be able to access GNSS(commonly referred to at GPS) data from multiple GNSS sensors in an area.\n",
    "GeoNet has a API (Application programming interface) to access it's GNSS data. For more on this go to https://fits.geonet.org.nz/api-docs/. Note you do not need to know anything about APIs to be able to use this tutorial"
   ]
  },
  {
   "cell_type": "markdown",
   "metadata": {},
   "source": [
    "R is a language made for statisticians by statisticians. It is an open source language which anyone can make a package for. This means that R has a lot of useful functions for all kinds of research."
   ]
  },
  {
   "cell_type": "markdown",
   "metadata": {},
   "source": [
    "This tutorial assumes that you have basic knowledge of the language R, but basic knowledge of any programming language should be sufficient to follow this tutorial."
   ]
  },
  {
   "cell_type": "markdown",
   "metadata": {},
   "source": [
    "All data will be saved into R as a data frame which is much like, what would be called, a dictionary in other languages, but with a few more restrictions to the data structure. To understand more about data frames go to https://www.rdocumentation.org/packages/base/versions/3.5.1/topics/data.frame"
   ]
  },
  {
   "cell_type": "markdown",
   "metadata": {},
   "source": [
    "We will also be using the packages geojsonR (https://cran.r-project.org/web/packages/geojsonR/geojsonR.pdf ) and maps (https://cran.r-project.org/web/packages/maps/maps.pdf )"
   ]
  },
  {
   "cell_type": "markdown",
   "metadata": {},
   "source": [
    "###### About Geonet GNSS data"
   ]
  },
  {
   "cell_type": "markdown",
   "metadata": {},
   "source": [
    "GeoNet uses GNSS technology to work out the precise positions of over 190 stations in and around NZ everyday.\n",
    "This is used to work out the displacement of the station from it's initial position, so we can know how much the surface of the earth is moveing. <br>\n",
    "This data has 3 components:\n",
    "<ul>\n",
    "    <li> The displacement in the east west direction where east is a positive displacement. This has a typeID of \"e\"\n",
    "    <li> The displacement in the north south direction where north is a positive displacement. This has a typeID of \"n\"\n",
    "    <li> The displacement in the up down direction where up is a positive displacement. This has a typeID of \"u\"</ul>\n",
    "For more on data types go to http://fits.geonet.org.nz/type (for best formatting use firefox) "
   ]
  },
  {
   "cell_type": "markdown",
   "metadata": {},
   "source": [
    "## &nbsp; 2. Set Up "
   ]
  },
  {
   "cell_type": "markdown",
   "metadata": {},
   "source": [
    "###### Install Packages"
   ]
  },
  {
   "cell_type": "code",
   "execution_count": 1,
   "metadata": {},
   "outputs": [],
   "source": [
    "#install.packages(\"geojsonR\")\n",
    "#install.packages(\"maps\")"
   ]
  },
  {
   "cell_type": "markdown",
   "metadata": {},
   "source": [
    "Note this code might take some time to run but you only need to run this ONCE. "
   ]
  },
  {
   "cell_type": "markdown",
   "metadata": {},
   "source": [
    "###### Call libraries"
   ]
  },
  {
   "cell_type": "code",
   "execution_count": 2,
   "metadata": {},
   "outputs": [],
   "source": [
    "library(httr)\n",
    "library(geojsonR)\n",
    "library(maps)"
   ]
  },
  {
   "cell_type": "markdown",
   "metadata": {},
   "source": [
    "The library httr (https://cran.r-project.org/web/packages/httr/vignettes/quickstart.html) is a base package of R and will not need to be imported. To find out more about geojsonR go to(https://cran.r-project.org/web/packages/geojsonR/geojsonR.pdf ) and to find more about maps go to (https://cran.r-project.org/web/packages/maps/maps.pdf )"
   ]
  },
  {
   "cell_type": "markdown",
   "metadata": {},
   "source": [
    "###### Set URL"
   ]
  },
  {
   "cell_type": "code",
   "execution_count": 3,
   "metadata": {},
   "outputs": [],
   "source": [
    "base_url <- \"http://fits.geonet.org.nz/\"\n",
    "endpoint <- \"site\""
   ]
  },
  {
   "cell_type": "markdown",
   "metadata": {},
   "source": [
    "The base URL should be set as above, and the endpoint is set to site to get the site data. There are other endpoints which will return different information such as plot and observation. To learn more go to https://fits.geonet.org.nz/api-docs/."
   ]
  },
  {
   "cell_type": "markdown",
   "metadata": {},
   "source": [
    "###### Set data type"
   ]
  },
  {
   "cell_type": "code",
   "execution_count": 4,
   "metadata": {},
   "outputs": [],
   "source": [
    "type <- \"e\""
   ]
  },
  {
   "cell_type": "markdown",
   "metadata": {},
   "source": [
    "We want to look for sites which return GNSS data as such we set type to one of the 3 data types for GNSS data. ` type <- \"e\"` ,` type <- \"n\"` and `type <- \"u\"` will all give us the same sites. "
   ]
  },
  {
   "cell_type": "markdown",
   "metadata": {},
   "source": [
    "## &nbsp; 3. Define point of interest"
   ]
  },
  {
   "cell_type": "markdown",
   "metadata": {},
   "source": [
    "###### Define the longitude and latitude of the point of interest"
   ]
  },
  {
   "cell_type": "code",
   "execution_count": 5,
   "metadata": {},
   "outputs": [],
   "source": [
    "point_long <- 178.5\n",
    "point_lat <- -38.5\n",
    "x<- 1"
   ]
  },
  {
   "cell_type": "markdown",
   "metadata": {},
   "source": [
    "Define the longitude and latitude of the point of interest as well as how far out from that point you want to look."
   ]
  },
  {
   "cell_type": "markdown",
   "metadata": {},
   "source": [
    "###### Set parameters for area of interest."
   ]
  },
  {
   "cell_type": "code",
   "execution_count": 6,
   "metadata": {},
   "outputs": [],
   "source": [
    "long_max<- toString(point_long + x)\n",
    "long_min<- toString(point_long - x)\n",
    "lat_max <- toString(point_lat - x)\n",
    "lat_min <- toString(point_lat + x)"
   ]
  },
  {
   "cell_type": "markdown",
   "metadata": {},
   "source": [
    "This set the 4 edge points of the box we will look for GNSS sites in."
   ]
  },
  {
   "cell_type": "markdown",
   "metadata": {},
   "source": [
    "###### Make box"
   ]
  },
  {
   "cell_type": "code",
   "execution_count": 7,
   "metadata": {},
   "outputs": [],
   "source": [
    "ploy <- paste(long_max,\"+\",lat_max\n",
    "              ,\",\",long_max,\"+\",lat_min\n",
    "              ,\",\",long_min,\"+\",lat_min\n",
    "              ,\",\",long_min,\"+\",lat_max\n",
    "              ,\",\",long_max,\"+\",lat_max, sep=\"\")"
   ]
  },
  {
   "cell_type": "markdown",
   "metadata": {},
   "source": [
    "Here we use the points worked out before to make a box that is formatted in the right way to put into our URL later"
   ]
  },
  {
   "cell_type": "markdown",
   "metadata": {},
   "source": [
    "## &nbsp; 4. Get site data"
   ]
  },
  {
   "cell_type": "markdown",
   "metadata": {},
   "source": [
    "###### Combine information to get full URL"
   ]
  },
  {
   "cell_type": "code",
   "execution_count": 8,
   "metadata": {},
   "outputs": [],
   "source": [
    "full_url <- paste(base_url,endpoint,\"?typeID=\",type,\"&within=POLYGON((\", ploy, \"))\", sep=\"\")"
   ]
  },
  {
   "cell_type": "markdown",
   "metadata": {},
   "source": [
    "Combine the information to make the full URL. sep=\"\" make sure there is no space between each piece of information. In this case you get the URL http://fits.geonet.org.nz/site?typeID=e&within=POLYGON((179.5+-39.5,179.5+-37.5,177.5+-37.5,177.5+-39.5,179.5+-39.5))"
   ]
  },
  {
   "cell_type": "markdown",
   "metadata": {},
   "source": [
    "###### Get sites"
   ]
  },
  {
   "cell_type": "code",
   "execution_count": 9,
   "metadata": {},
   "outputs": [],
   "source": [
    "allGNSSsites <- FROM_GeoJson(full_url)[[1]]"
   ]
  },
  {
   "cell_type": "markdown",
   "metadata": {},
   "source": [
    "Use `FROM_GeoJson` to get all the sites using the above URL. `[[1]]` is saying only look at the 1st row of data and is needed becuase all data is in the 1st row with this row saying that it is site data. "
   ]
  },
  {
   "cell_type": "markdown",
   "metadata": {},
   "source": [
    "###### See the number of sites"
   ]
  },
  {
   "cell_type": "code",
   "execution_count": 10,
   "metadata": {},
   "outputs": [
    {
     "data": {
      "text/html": [
       "'There are 18 sites in the the box of interest'"
      ],
      "text/latex": [
       "'There are 18 sites in the the box of interest'"
      ],
      "text/markdown": [
       "'There are 18 sites in the the box of interest'"
      ],
      "text/plain": [
       "[1] \"There are 18 sites in the the box of interest\""
      ]
     },
     "metadata": {},
     "output_type": "display_data"
    }
   ],
   "source": [
    "paste(\"There are\" , length(allGNSSsites), \"sites in the the box of interest\")"
   ]
  },
  {
   "cell_type": "markdown",
   "metadata": {},
   "source": [
    "We only want to know the site ID,longitude and latitude of each site so I will make a new data frame will only this information in it."
   ]
  },
  {
   "cell_type": "markdown",
   "metadata": {},
   "source": [
    "###### Initialize this data frame"
   ]
  },
  {
   "cell_type": "code",
   "execution_count": 11,
   "metadata": {},
   "outputs": [],
   "source": [
    "sites <- data.frame(\"siteID\"= allGNSSsites[[1]]$properties$siteID,\n",
    "                \"longitude\" =allGNSSsites[[1]]$geometry$coordinate[1], \n",
    "                \"latitude\" =allGNSSsites[[1]]$geometry$coordinate[2])"
   ]
  },
  {
   "cell_type": "markdown",
   "metadata": {},
   "source": [
    "Take the first `[[1]]` data point and extract the values for siteID, longitude and latitude. Then format this into a data frame"
   ]
  },
  {
   "cell_type": "markdown",
   "metadata": {},
   "source": [
    "###### Complete this data frame"
   ]
  },
  {
   "cell_type": "code",
   "execution_count": 12,
   "metadata": {},
   "outputs": [],
   "source": [
    "for (i in 2:length(allGNSSsites)){\n",
    "    temp <- data.frame(\"siteID\"=allGNSSsites[[i]]$properties$siteID, \n",
    "                      \"longitude\" =allGNSSsites[[i]]$geometry$coordinate[1], \n",
    "                      \"latitude\" =allGNSSsites[[i]]$geometry$coordinate[2])\n",
    "    sites <- rbind(sites, temp)\n",
    "}"
   ]
  },
  {
   "cell_type": "markdown",
   "metadata": {},
   "source": [
    "Do what was done for the first data point for each data point adding it to the data frame with `rbind`."
   ]
  },
  {
   "cell_type": "markdown",
   "metadata": {},
   "source": [
    "###### Print out this data frame"
   ]
  },
  {
   "cell_type": "code",
   "execution_count": 13,
   "metadata": {},
   "outputs": [
    {
     "data": {
      "text/html": [
       "<table>\n",
       "<thead><tr><th scope=col>siteID</th><th scope=col>longitude</th><th scope=col>latitude</th></tr></thead>\n",
       "<tbody>\n",
       "\t<tr><td>AHTI     </td><td>178.0460 </td><td>-38.41145</td></tr>\n",
       "\t<tr><td>ANAU     </td><td>178.2912 </td><td>-38.26821</td></tr>\n",
       "\t<tr><td>CNST     </td><td>178.2111 </td><td>-38.48797</td></tr>\n",
       "\t<tr><td>GISB     </td><td>177.8860 </td><td>-38.63534</td></tr>\n",
       "\t<tr><td>HANA     </td><td>177.5694 </td><td>-38.68682</td></tr>\n",
       "\t<tr><td>HIKB     </td><td>178.3034 </td><td>-37.56104</td></tr>\n",
       "\t<tr><td>KOKO     </td><td>177.6678 </td><td>-39.01611</td></tr>\n",
       "\t<tr><td>MAHI     </td><td>177.9070 </td><td>-39.15256</td></tr>\n",
       "\t<tr><td>MAKO     </td><td>178.1291 </td><td>-38.64376</td></tr>\n",
       "\t<tr><td>MATW     </td><td>177.5262 </td><td>-38.33385</td></tr>\n",
       "\t<tr><td>PAKI     </td><td>178.0826 </td><td>-37.89398</td></tr>\n",
       "\t<tr><td>PARI     </td><td>177.8833 </td><td>-38.92257</td></tr>\n",
       "\t<tr><td>PRTU     </td><td>177.6979 </td><td>-38.81419</td></tr>\n",
       "\t<tr><td>PUKE     </td><td>178.2574 </td><td>-38.07141</td></tr>\n",
       "\t<tr><td>RAUM     </td><td>177.6775 </td><td>-37.96500</td></tr>\n",
       "\t<tr><td>TAUW     </td><td>178.0059 </td><td>-38.16242</td></tr>\n",
       "\t<tr><td>TKAR     </td><td>177.8114 </td><td>-38.43747</td></tr>\n",
       "\t<tr><td>WMAT     </td><td>178.4087 </td><td>-37.82500</td></tr>\n",
       "</tbody>\n",
       "</table>\n"
      ],
      "text/latex": [
       "\\begin{tabular}{r|lll}\n",
       " siteID & longitude & latitude\\\\\n",
       "\\hline\n",
       "\t AHTI      & 178.0460  & -38.41145\\\\\n",
       "\t ANAU      & 178.2912  & -38.26821\\\\\n",
       "\t CNST      & 178.2111  & -38.48797\\\\\n",
       "\t GISB      & 177.8860  & -38.63534\\\\\n",
       "\t HANA      & 177.5694  & -38.68682\\\\\n",
       "\t HIKB      & 178.3034  & -37.56104\\\\\n",
       "\t KOKO      & 177.6678  & -39.01611\\\\\n",
       "\t MAHI      & 177.9070  & -39.15256\\\\\n",
       "\t MAKO      & 178.1291  & -38.64376\\\\\n",
       "\t MATW      & 177.5262  & -38.33385\\\\\n",
       "\t PAKI      & 178.0826  & -37.89398\\\\\n",
       "\t PARI      & 177.8833  & -38.92257\\\\\n",
       "\t PRTU      & 177.6979  & -38.81419\\\\\n",
       "\t PUKE      & 178.2574  & -38.07141\\\\\n",
       "\t RAUM      & 177.6775  & -37.96500\\\\\n",
       "\t TAUW      & 178.0059  & -38.16242\\\\\n",
       "\t TKAR      & 177.8114  & -38.43747\\\\\n",
       "\t WMAT      & 178.4087  & -37.82500\\\\\n",
       "\\end{tabular}\n"
      ],
      "text/markdown": [
       "\n",
       "siteID | longitude | latitude | \n",
       "|---|---|---|---|---|---|---|---|---|---|---|---|---|---|---|---|---|---|\n",
       "| AHTI      | 178.0460  | -38.41145 | \n",
       "| ANAU      | 178.2912  | -38.26821 | \n",
       "| CNST      | 178.2111  | -38.48797 | \n",
       "| GISB      | 177.8860  | -38.63534 | \n",
       "| HANA      | 177.5694  | -38.68682 | \n",
       "| HIKB      | 178.3034  | -37.56104 | \n",
       "| KOKO      | 177.6678  | -39.01611 | \n",
       "| MAHI      | 177.9070  | -39.15256 | \n",
       "| MAKO      | 178.1291  | -38.64376 | \n",
       "| MATW      | 177.5262  | -38.33385 | \n",
       "| PAKI      | 178.0826  | -37.89398 | \n",
       "| PARI      | 177.8833  | -38.92257 | \n",
       "| PRTU      | 177.6979  | -38.81419 | \n",
       "| PUKE      | 178.2574  | -38.07141 | \n",
       "| RAUM      | 177.6775  | -37.96500 | \n",
       "| TAUW      | 178.0059  | -38.16242 | \n",
       "| TKAR      | 177.8114  | -38.43747 | \n",
       "| WMAT      | 178.4087  | -37.82500 | \n",
       "\n",
       "\n"
      ],
      "text/plain": [
       "   siteID longitude latitude \n",
       "1  AHTI   178.0460  -38.41145\n",
       "2  ANAU   178.2912  -38.26821\n",
       "3  CNST   178.2111  -38.48797\n",
       "4  GISB   177.8860  -38.63534\n",
       "5  HANA   177.5694  -38.68682\n",
       "6  HIKB   178.3034  -37.56104\n",
       "7  KOKO   177.6678  -39.01611\n",
       "8  MAHI   177.9070  -39.15256\n",
       "9  MAKO   178.1291  -38.64376\n",
       "10 MATW   177.5262  -38.33385\n",
       "11 PAKI   178.0826  -37.89398\n",
       "12 PARI   177.8833  -38.92257\n",
       "13 PRTU   177.6979  -38.81419\n",
       "14 PUKE   178.2574  -38.07141\n",
       "15 RAUM   177.6775  -37.96500\n",
       "16 TAUW   178.0059  -38.16242\n",
       "17 TKAR   177.8114  -38.43747\n",
       "18 WMAT   178.4087  -37.82500"
      ]
     },
     "metadata": {},
     "output_type": "display_data"
    }
   ],
   "source": [
    "sites"
   ]
  },
  {
   "cell_type": "markdown",
   "metadata": {},
   "source": [
    "## &nbsp; 5. Map sites"
   ]
  },
  {
   "cell_type": "markdown",
   "metadata": {},
   "source": [
    "###### Set parameters for map"
   ]
  },
  {
   "cell_type": "code",
   "execution_count": 14,
   "metadata": {},
   "outputs": [],
   "source": [
    "xhigh <- max(sites$longitude)+ .3\n",
    "xlow <- min(sites$longitude)- .3\n",
    "yhigh <- max(sites$latitude)+ .3\n",
    "ylow <- min(sites$latitude)- .3"
   ]
  },
  {
   "cell_type": "markdown",
   "metadata": {},
   "source": [
    "We can take the maximum longitude to be the maximum longitude of all the sites and the same for minimum and latitude. \n",
    "So that the data is not on the edge of the map we can make sure all points are at least 0.3 from the edge of the map by modifying the maximum and minimum,longitude and latitude by 0.3. "
   ]
  },
  {
   "cell_type": "markdown",
   "metadata": {},
   "source": [
    "###### Plot the map with x,y parameters"
   ]
  },
  {
   "cell_type": "code",
   "execution_count": 20,
   "metadata": {},
   "outputs": [
    {
     "data": {
      "image/png": "[encoded data removed]",
      "text/plain": [
       "plot without title"
      ]
     },
     "metadata": {},
     "output_type": "display_data"
    }
   ],
   "source": [
    "map(\"nz\",xlim=c(xlow,xhigh),ylim=c(ylow,yhigh), fill=TRUE, col=\"lightgreen\")\n",
    "points(sites$longitude, sites$latitude, pch=17, cex=1.3, col='red')\n",
    "labels <- paste(sites$siteID)\n",
    "text(sites$longitude, sites$latitude, labels=labels, cex=.9, pos=4)\n",
    "map.axes()"
   ]
  },
  {
   "cell_type": "markdown",
   "metadata": {},
   "source": [
    "The function `map` makes the base map. The function `points` makes a point for each site.\n",
    "    The point is given an x,y coordinate of its longitude and latitude.\n",
    "    The function`pch` say what shape will be plotted `pch=17` say the shape will be triangle with its centre on the point.\n",
    "    The function `cex` say the size of the shape will be.\n",
    "    The label is the siteID and `pos=4` says it will to the right of the point.\n",
    "If you right click on this plot in the notebook you can save it. \n",
    "For more about what you can do with maps go to http://www.geog.uoregon.edu/GeogR/ or run `library(help =\"maps\")`"
   ]
  },
  {
   "cell_type": "markdown",
   "metadata": {},
   "source": [
    "## &nbsp; 6. Get GNSS for all sites"
   ]
  },
  {
   "cell_type": "markdown",
   "metadata": {},
   "source": [
    "###### Make a function that will take a siteID and return a data frame with east, north and up data from that site."
   ]
  },
  {
   "cell_type": "code",
   "execution_count": 16,
   "metadata": {},
   "outputs": [],
   "source": [
    "get_gnss<- function(site){\n",
    "    # This function takes a site ID as a string\n",
    "    # and returns a dataframe with all the observation data for that site\n",
    "    # For more on how this function works go to notebook link\n",
    "    \n",
    "    #Set up\n",
    "    base_url <- \"http://fits.geonet.org.nz/\"\n",
    "    endpoint <- \"observation\"\n",
    "    \n",
    "    #Get East Data\n",
    "    type <- \"e\"\n",
    "    full_url <- paste(base_url,endpoint,\"?typeID=\",type,\"&siteID=\",site, sep=\"\")\n",
    "    east <- GET(full_url)\n",
    "    \n",
    "    #Get North Data\n",
    "    type <- \"n\"\n",
    "    full_url <- paste(base_url,endpoint,\"?typeID=\",type,\"&siteID=\",site, sep=\"\")\n",
    "    north <- GET(full_url)\n",
    "    \n",
    "    #Get Up Data\n",
    "    type <- \"u\"\n",
    "    full_url <- paste(base_url,endpoint,\"?typeID=\",type,\"&siteID=\",site, sep=\"\")\n",
    "    up <- GET(full_url)\n",
    "    \n",
    "    #Unpack data into data frames\n",
    "    df_e <- content(east, encoding =\"UTF-8\")\n",
    "    df_n <- content(north, encoding =\"UTF-8\")\n",
    "    df_u <- content(up, encoding =\"UTF-8\")\n",
    "    \n",
    "    # Make into one data frame\n",
    "    new_df <- data.frame(\n",
    "    df_e$'date-time', \n",
    "    df_e$'e (mm)', \n",
    "    df_n$'n (mm)',\n",
    "    df_u$'u (mm)')\n",
    "    colnames(new_df) = c(\"date-time\", \"e (mm)\", 'n (mm)','u (mm)')\n",
    "    \n",
    "    # Return data frame\n",
    "    return(new_df)\n",
    "}"
   ]
  },
  {
   "cell_type": "markdown",
   "metadata": {},
   "source": [
    "For more on the code in this fuction go to link to notebook."
   ]
  },
  {
   "cell_type": "markdown",
   "metadata": {},
   "source": [
    "###### Run above function on all sites in our data frame"
   ]
  },
  {
   "cell_type": "code",
   "execution_count": null,
   "metadata": {},
   "outputs": [],
   "source": [
    "data <- list()\n",
    "for (i in 1:length(allGNSSsites)){\n",
    "    data[[levels(sites$siteID[1])[i]]]<-get_gnss(levels(sites$siteID[1])[i])\n",
    "    }"
   ]
  },
  {
   "cell_type": "markdown",
   "metadata": {},
   "source": [
    "`data <- list()` initialize a list to save each sites dataframe of data in. The list of sites is then looped over and have the above function run on them, whith the result being saved into the list data with the name of the site."
   ]
  },
  {
   "cell_type": "markdown",
   "metadata": {},
   "source": [
    "## &nbsp; 7. Plot data"
   ]
  },
  {
   "cell_type": "markdown",
   "metadata": {},
   "source": [
    "###### Plot the east data for the site CNST"
   ]
  },
  {
   "cell_type": "code",
   "execution_count": 18,
   "metadata": {},
   "outputs": [
    {
     "data": {
      "image/png": "[encoded data removed]",
      "text/plain": [
       "Plot with title \"Relative east displacement for CNST\""
      ]
     },
     "metadata": {},
     "output_type": "display_data"
    }
   ],
   "source": [
    "title <- paste(\"Relative east displacement for CNST\")\n",
    "plot(data[[\"CNST\"]]$'date-time', data[[\"CNST\"]]$'e (mm)',main= title, xlab = \"Date\", ylab = \"Displacement (mm)\", pch = 16)"
   ]
  },
  {
   "cell_type": "markdown",
   "metadata": {},
   "source": [
    "`data[[\"CNST\"]]` say call the dataframe with name \"CNST\". We named each dataframe the same as it siteID, so this calls the data from the site with the siteID of \"CNST\".<br>\n",
    "The data `data[[\"CNST\"]]$'date-time'` is the data time data in the east data frame. This is set to be on the x axis. ` data[[\"CNST\"]]$'e (mm)'` is the displacement data from the east data frame. This is set to be on the y axis. ` main= \"Relative east displacement for CNST\"` gives the graph its title. ` xlab = \"Date\", ylab = \"Displacement (mm)\"` give the graph its x and y axis titles. `pch  = 16` says that each data point will be put on the graph as a circle filled in point. To save this plot right click on it in this notebook"
   ]
  },
  {
   "cell_type": "markdown",
   "metadata": {},
   "source": [
    "## &nbsp; 8. Save data"
   ]
  },
  {
   "cell_type": "code",
   "execution_count": 19,
   "metadata": {},
   "outputs": [],
   "source": [
    "for (i in 1:length(data)){\n",
    "    name <- paste(levels(sites$siteID[1])[i], \".csv\")\n",
    "    write.csv(data[[levels(sites$siteID[1])[i]]], name)\n",
    "}"
   ]
  },
  {
   "cell_type": "markdown",
   "metadata": {},
   "source": [
    "`levels(sites$siteID[1])` is the list of siteIDs so this `for` loop make a cvs file for each site. The csv will be named after the site ID. eg. The csv with the data from CNST with be named CNST.csv"
   ]
  },
  {
   "cell_type": "markdown",
   "metadata": {},
   "source": [
    "## Useful links"
   ]
  },
  {
   "cell_type": "markdown",
   "metadata": {},
   "source": [
    "<ul>\n",
    "    <li>This notebook uses the language R https://www.r-project.org/\n",
    "    <li>This notebook uses the library httr https://cran.r-project.org/web/packages/httr/vignettes/quickstart.html\n",
    "    <li>To understand more about data frames go to https://www.rdocumentation.org/packages/base/versions/3.5.1/topics/data.frame\n",
    "    <li>To understand the `get_gnss` function go to (right place in github)\n",
    "    <li>To learn more about the packages geojsonR go to https://cran.r-project.org/web/packages/geojsonR/geojsonR.pdf  \n",
    "    <li>To understad more about maps in R go to https://cran.r-project.org/web/packages/maps/maps.pdf\n",
    "    <li>To learn more about what maps can be made in R go to http://www.geog.uoregon.edu/GeogR/ \n",
    "    <li>More tutorials on GNSS data can be found at (link to right place in github) \n",
    "    <li>To learn more about station codes go to https://www.geonet.org.nz/data/supplementary/channels\n",
    "    <li>For more on data types in FITS go to http://fits.geonet.org.nz/type (for best formatting use firefox)\n",
    "    <li>For more on FITS go to https://fits.geonet.org.nz/api-docs/    \n",
    "</ul>"
   ]
  }
 ],
 "metadata": {
  "kernelspec": {
   "display_name": "R",
   "language": "R",
   "name": "ir"
  },
  "language_info": {
   "codemirror_mode": "r",
   "file_extension": ".r",
   "mimetype": "text/x-r-source",
   "name": "R",
   "pygments_lexer": "r",
   "version": "3.5.1"
  }
 },
 "nbformat": 4,
 "nbformat_minor": 2
}
