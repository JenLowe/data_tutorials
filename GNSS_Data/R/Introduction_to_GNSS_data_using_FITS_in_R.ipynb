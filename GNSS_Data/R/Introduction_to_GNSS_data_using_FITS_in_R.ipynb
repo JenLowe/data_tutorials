{
 "cells": [
  {
   "cell_type": "markdown",
   "metadata": {},
   "source": [
    "# Introduction on Using the language R to access GeoNet's GNSS data"
   ]
  },
  {
   "cell_type": "markdown",
   "metadata": {},
   "source": [
    "In this notebook we will learn how to get data from one GNSS station. By the end of this notebook you should be able to make a graph like the one below. <img src=\"plot.png\">"
   ]
  },
  {
   "cell_type": "markdown",
   "metadata": {},
   "source": [
    "## &nbsp; Table of contents"
   ]
  },
  {
   "cell_type": "markdown",
   "metadata": {},
   "source": [
    "### 1. Introduction\n",
    "### 2. Building the base FITS query\n",
    "### 3. Get GNSS data\n",
    "### 4. Plot data \n",
    "### 5. Save data"
   ]
  },
  {
   "cell_type": "markdown",
   "metadata": {},
   "source": [
    "## &nbsp; 1. Introduction"
   ]
  },
  {
   "cell_type": "markdown",
   "metadata": {},
   "source": [
    "In this tutorial we will be learning how to use R to access GNSS (commonly referred to at GPS) data from the continuous GNSS sites in the GeoNet and PositioNZ networks.\n",
    "GeoNet has a API (Application Programming Interface) to access its GNSS data. You do not need to know anything about APIs to use this tutorial but if you would like more info see https://fits.geonet.org.nz/api-docs/. "
   ]
  },
  {
   "cell_type": "markdown",
   "metadata": {},
   "source": [
    "R is a language made for statisticians by statisticians. It is an open source language which anyone can make a package for. This means that R has a lot of useful functions for all kinds of research."
   ]
  },
  {
   "cell_type": "markdown",
   "metadata": {},
   "source": [
    "This tutorial assumes that you have basic knowledge of the language R, but basic knowledge of any programming language should be sufficient to follow this tutorial."
   ]
  },
  {
   "cell_type": "markdown",
   "metadata": {},
   "source": [
    "All data will be saved into R as a data frame which is much like, what would be called, a dictionary in other languages, but with a few more restrictions to the data structure. To understand more about data frames go to https://www.rdocumentation.org/packages/base/versions/3.5.1/topics/data.frame"
   ]
  },
  {
   "cell_type": "markdown",
   "metadata": {},
   "source": [
    "###### About Geonet GNSS data"
   ]
  },
  {
   "cell_type": "markdown",
   "metadata": {},
   "source": [
    "GeoNet uses GNSS technology to work out the precise positions of over 190 stations in and around NZ everyday.\n",
    "These positions are used to generate a displacement timeseries for each station so we can observe how much and how quickly each station moves. <br>\n",
    "This data has 3 components:\n",
    "<ul>\n",
    "    <li> The displacement in the east west dirction where east is a positive displacement. This has a typeID of \"e\"\n",
    "    <li> The displacement in the north south dirction where north is a positive displacement. This has a typeID of \"n\"\n",
    "    <li> The displacement in the up down dirction where up is a positive displacement. This has a typeID of \"u\"</ul>\n",
    "For more on data types go to http://fits.geonet.org.nz/type (for best formatting use firefox)   "
   ]
  },
  {
   "cell_type": "markdown",
   "metadata": {},
   "source": [
    "## &nbsp; 2. Building the base FITS query"
   ]
  },
  {
   "cell_type": "markdown",
   "metadata": {},
   "source": [
    "###### Call libraries  "
   ]
  },
  {
   "cell_type": "code",
   "execution_count": 1,
   "metadata": {},
   "outputs": [],
   "source": [
    "library(httr)"
   ]
  },
  {
   "cell_type": "markdown",
   "metadata": {},
   "source": [
    "The library httr (https://cran.r-project.org/web/packages/httr/vignettes/quickstart.html) is a base package of R and will not need to be imported."
   ]
  },
  {
   "cell_type": "markdown",
   "metadata": {},
   "source": [
    "###### Set URL"
   ]
  },
  {
   "cell_type": "code",
   "execution_count": 2,
   "metadata": {},
   "outputs": [],
   "source": [
    "base_url <- \"http://fits.geonet.org.nz/\"\n",
    "endpoint <- \"observation\""
   ]
  },
  {
   "cell_type": "markdown",
   "metadata": {},
   "source": [
    "The base URL should be set as above, and the endpoint is set to observation to get the observation data. There are other endpoints which will return different information such as plot and site. To learn more go to https://fits.geonet.org.nz/api-docs/."
   ]
  },
  {
   "cell_type": "markdown",
   "metadata": {},
   "source": [
    "###### Set parameters"
   ]
  },
  {
   "cell_type": "code",
   "execution_count": 3,
   "metadata": {},
   "outputs": [],
   "source": [
    "type <- \"e\"\n",
    "site <- \"HANM\""
   ]
  },
  {
   "cell_type": "markdown",
   "metadata": {},
   "source": [
    "Set the parameters to get the east component `type <- \"e\"` of the site in the Hanmer Basin with the siteID HANM `site <- \"HANM\"`. To Find these 4 letter site IDs you can use https://www.geonet.org.nz/data/network/sensor/search and search for GNSS antenna. "
   ]
  },
  {
   "cell_type": "markdown",
   "metadata": {},
   "source": [
    "###### Combine information to get full URL"
   ]
  },
  {
   "cell_type": "code",
   "execution_count": 4,
   "metadata": {},
   "outputs": [],
   "source": [
    "full_url <- paste(base_url,endpoint,\"?typeID=\",type,\"&siteID=\",site, sep=\"\")"
   ]
  },
  {
   "cell_type": "markdown",
   "metadata": {},
   "source": [
    "Combine the information to make the full URL. `sep=\"\"` make sure there is no space between each piece of information. In this case you get the URL http://fits.geonet.org.nz/observation?typeID=e&siteID=HANM"
   ]
  },
  {
   "cell_type": "markdown",
   "metadata": {},
   "source": [
    "## &nbsp; 3. Get GNSS data"
   ]
  },
  {
   "cell_type": "markdown",
   "metadata": {},
   "source": [
    "###### Get East data"
   ]
  },
  {
   "cell_type": "code",
   "execution_count": 5,
   "metadata": {},
   "outputs": [],
   "source": [
    "east <- GET(full_url)"
   ]
  },
  {
   "cell_type": "markdown",
   "metadata": {},
   "source": [
    "Get the data at the above URL we have made."
   ]
  },
  {
   "cell_type": "markdown",
   "metadata": {},
   "source": [
    "###### Get North data"
   ]
  },
  {
   "cell_type": "code",
   "execution_count": 6,
   "metadata": {},
   "outputs": [],
   "source": [
    "type <- \"n\"\n",
    "full_url <- paste(base_url,endpoint,\"?typeID=\",type,\"&siteID=\",site, sep=\"\")\n",
    "north <- GET(full_url)"
   ]
  },
  {
   "cell_type": "markdown",
   "metadata": {},
   "source": [
    "Change the type to \"n\" using `type <- \"n\"`, then use the same code as before to make the full URL, and then use `GET` to get the data at the URL"
   ]
  },
  {
   "cell_type": "markdown",
   "metadata": {},
   "source": [
    "###### Get Up data"
   ]
  },
  {
   "cell_type": "code",
   "execution_count": 7,
   "metadata": {},
   "outputs": [],
   "source": [
    "type <- \"u\"\n",
    "full_url <- paste(base_url,endpoint,\"?typeID=\",type,\"&siteID=\",site, sep=\"\")\n",
    "up <- GET(full_url)"
   ]
  },
  {
   "cell_type": "markdown",
   "metadata": {},
   "source": [
    "Change the type to \"u\" using `type <- \"u\"`, then use the same code as before to make the full URL, and then use `GET` to get the data at the URL"
   ]
  },
  {
   "cell_type": "markdown",
   "metadata": {},
   "source": [
    "###### Check that your requests for data worked "
   ]
  },
  {
   "cell_type": "code",
   "execution_count": 8,
   "metadata": {},
   "outputs": [
    {
     "data": {
      "text/html": [
       "'The Response status code of the east channle is 200'"
      ],
      "text/latex": [
       "'The Response status code of the east channle is 200'"
      ],
      "text/markdown": [
       "'The Response status code of the east channle is 200'"
      ],
      "text/plain": [
       "[1] \"The Response status code of the east channle is 200\""
      ]
     },
     "metadata": {},
     "output_type": "display_data"
    },
    {
     "data": {
      "text/html": [
       "'The Response status code of the north channle is 200'"
      ],
      "text/latex": [
       "'The Response status code of the north channle is 200'"
      ],
      "text/markdown": [
       "'The Response status code of the north channle is 200'"
      ],
      "text/plain": [
       "[1] \"The Response status code of the north channle is 200\""
      ]
     },
     "metadata": {},
     "output_type": "display_data"
    },
    {
     "data": {
      "text/html": [
       "'The Response status code of the up channle is 200'"
      ],
      "text/latex": [
       "'The Response status code of the up channle is 200'"
      ],
      "text/markdown": [
       "'The Response status code of the up channle is 200'"
      ],
      "text/plain": [
       "[1] \"The Response status code of the up channle is 200\""
      ]
     },
     "metadata": {},
     "output_type": "display_data"
    }
   ],
   "source": [
    "paste(\"The Response status code of the east channle is\", east$status_code)\n",
    "paste(\"The Response status code of the north channle is\", north$status_code)\n",
    "paste(\"The Response status code of the up channle is\", up$status_code)"
   ]
  },
  {
   "cell_type": "markdown",
   "metadata": {},
   "source": [
    "The response status code says whether we were successful in getting the data requested and why not if we were unsuccessful:\n",
    "<ul>\n",
    "<li>200 -- everything went okay, and the result has been returned (if any)\n",
    "<li>301 -- the server is redirecting you to a different endpoint. This can happen when a company switches domain names, or an endpoint name is changed.\n",
    "<li>400 -- the server thinks you made a bad request. This can happen when you don't send along the right data, among other things.\n",
    "<li>404 -- the resource you tried to access wasn't found on the server.\n",
    "</ul>"
   ]
  },
  {
   "cell_type": "markdown",
   "metadata": {},
   "source": [
    "###### Get content from the east request. "
   ]
  },
  {
   "cell_type": "code",
   "execution_count": 9,
   "metadata": {},
   "outputs": [
    {
     "name": "stderr",
     "output_type": "stream",
     "text": [
      "Parsed with column specification:\n",
      "cols(\n",
      "  `date-time` = col_datetime(format = \"\"),\n",
      "  `e (mm)` = col_double(),\n",
      "  `error (mm)` = col_double()\n",
      ")\n"
     ]
    }
   ],
   "source": [
    "df_e <- content(east, encoding =\"UTF-8\")"
   ]
  },
  {
   "cell_type": "markdown",
   "metadata": {},
   "source": [
    "This takes the content of the east request, which is encoded in UTF-8 before we unpack it, and unpacks it into a data frame. The text in the red box says that R has identified the data to have 3 columns which it has named `date-time` `e (mm)` and `error (mm)`. It has also identified the data type in each column and converted them from the UTF-8 encoding into its identified data type. The first column has been identified to have datetime data in it. The other columns have been identified as having the data type double. A double is a real number between $ 2*10^{-308}$  and $ 2*10^{308}$ . "
   ]
  },
  {
   "cell_type": "markdown",
   "metadata": {},
   "source": [
    "###### Print the first few lines of the east data frame"
   ]
  },
  {
   "cell_type": "code",
   "execution_count": 10,
   "metadata": {},
   "outputs": [
    {
     "data": {
      "text/html": [
       "<table>\n",
       "<thead><tr><th scope=col>date-time</th><th scope=col>e (mm)</th><th scope=col>error (mm)</th></tr></thead>\n",
       "<tbody>\n",
       "\t<tr><td>2014-06-04 11:59:00</td><td>-305.94            </td><td>2.02               </td></tr>\n",
       "\t<tr><td>2014-06-05 11:59:00</td><td>-301.13            </td><td>1.66               </td></tr>\n",
       "\t<tr><td>2014-06-06 11:59:00</td><td>-296.94            </td><td>1.87               </td></tr>\n",
       "\t<tr><td>2014-06-07 11:59:00</td><td>-300.43            </td><td>1.82               </td></tr>\n",
       "\t<tr><td>2014-06-08 11:59:00</td><td>-301.36            </td><td>1.65               </td></tr>\n",
       "\t<tr><td>2014-06-09 11:59:00</td><td>-301.55            </td><td>1.20               </td></tr>\n",
       "</tbody>\n",
       "</table>\n"
      ],
      "text/latex": [
       "\\begin{tabular}{r|lll}\n",
       " date-time & e (mm) & error (mm)\\\\\n",
       "\\hline\n",
       "\t 2014-06-04 11:59:00 & -305.94             & 2.02               \\\\\n",
       "\t 2014-06-05 11:59:00 & -301.13             & 1.66               \\\\\n",
       "\t 2014-06-06 11:59:00 & -296.94             & 1.87               \\\\\n",
       "\t 2014-06-07 11:59:00 & -300.43             & 1.82               \\\\\n",
       "\t 2014-06-08 11:59:00 & -301.36             & 1.65               \\\\\n",
       "\t 2014-06-09 11:59:00 & -301.55             & 1.20               \\\\\n",
       "\\end{tabular}\n"
      ],
      "text/markdown": [
       "\n",
       "date-time | e (mm) | error (mm) | \n",
       "|---|---|---|---|---|---|\n",
       "| 2014-06-04 11:59:00 | -305.94             | 2.02                | \n",
       "| 2014-06-05 11:59:00 | -301.13             | 1.66                | \n",
       "| 2014-06-06 11:59:00 | -296.94             | 1.87                | \n",
       "| 2014-06-07 11:59:00 | -300.43             | 1.82                | \n",
       "| 2014-06-08 11:59:00 | -301.36             | 1.65                | \n",
       "| 2014-06-09 11:59:00 | -301.55             | 1.20                | \n",
       "\n",
       "\n"
      ],
      "text/plain": [
       "  date-time           e (mm)  error (mm)\n",
       "1 2014-06-04 11:59:00 -305.94 2.02      \n",
       "2 2014-06-05 11:59:00 -301.13 1.66      \n",
       "3 2014-06-06 11:59:00 -296.94 1.87      \n",
       "4 2014-06-07 11:59:00 -300.43 1.82      \n",
       "5 2014-06-08 11:59:00 -301.36 1.65      \n",
       "6 2014-06-09 11:59:00 -301.55 1.20      "
      ]
     },
     "metadata": {},
     "output_type": "display_data"
    }
   ],
   "source": [
    "head(df_e)"
   ]
  },
  {
   "cell_type": "markdown",
   "metadata": {},
   "source": [
    "Here we can see on the 4th of June 2014 the site HANM had moved 300.73 mm west &plusmn; 2.02 mm from its initial position."
   ]
  },
  {
   "cell_type": "markdown",
   "metadata": {},
   "source": [
    "###### Get content from the north and up requests. "
   ]
  },
  {
   "cell_type": "code",
   "execution_count": 11,
   "metadata": {},
   "outputs": [
    {
     "name": "stderr",
     "output_type": "stream",
     "text": [
      "Parsed with column specification:\n",
      "cols(\n",
      "  `date-time` = col_datetime(format = \"\"),\n",
      "  `n (mm)` = col_double(),\n",
      "  `error (mm)` = col_double()\n",
      ")\n",
      "Parsed with column specification:\n",
      "cols(\n",
      "  `date-time` = col_datetime(format = \"\"),\n",
      "  `u (mm)` = col_double(),\n",
      "  `error (mm)` = col_double()\n",
      ")\n"
     ]
    }
   ],
   "source": [
    "df_n <- content(north, encoding =\"UTF-8\")\n",
    "df_u <- content(up, encoding =\"UTF-8\")"
   ]
  },
  {
   "cell_type": "markdown",
   "metadata": {},
   "source": [
    "Done the same for the east request."
   ]
  },
  {
   "cell_type": "markdown",
   "metadata": {},
   "source": [
    "## &nbsp; 4. Plot"
   ]
  },
  {
   "cell_type": "markdown",
   "metadata": {},
   "source": [
    "###### Plot \"east west\" GNSS data for the site HANM"
   ]
  },
  {
   "cell_type": "code",
   "execution_count": 12,
   "metadata": {},
   "outputs": [
    {
     "data": {
      "image/png": "[encoded data removed]",
      "text/plain": [
       "Plot with title \"Relative east displacement for HANM\""
      ]
     },
     "metadata": {},
     "output_type": "display_data"
    }
   ],
   "source": [
    "plot(df_e$'date-time', df_e$'e (mm)',main= \"Relative east displacement for HANM\", xlab = \"Date\", ylab = \"Displacement (mm)\", pch = 16)"
   ]
  },
  {
   "cell_type": "markdown",
   "metadata": {},
   "source": [
    "The data `df_e$'date-time'` is the data time data in the east data frame. This is set to be on the x axis. ` df_e$'e (mm)'` is the displacement data from the east data frame. This is set to be on the y axis. ` main= \"Relative east displacement for HANM\"` gives the graph its title. ` xlab = \"Date\", ylab = \"Displacement (mm)\"` give the graph its x and y axis titles. `pch  = 16` says that each data point will be put on the graph as a circle filled in point. To save this plot right click on it in this notebook"
   ]
  },
  {
   "cell_type": "markdown",
   "metadata": {},
   "source": [
    "###### Plot north and up GNSS data for the site HANM"
   ]
  },
  {
   "cell_type": "code",
   "execution_count": 13,
   "metadata": {},
   "outputs": [
    {
     "data": {
      "image/png": "[encoded data removed]",
      "text/plain": [
       "Plot with title \"Relative north displacement for HANM\""
      ]
     },
     "metadata": {},
     "output_type": "display_data"
    },
    {
     "data": {
      "image/png": "[encoded data removed]",
      "text/plain": [
       "Plot with title \"Relative up displacement for HANM\""
      ]
     },
     "metadata": {},
     "output_type": "display_data"
    }
   ],
   "source": [
    "plot(df_n$'date-time', df_n$'n (mm)',main= \"Relative north displacement for HANM\", xlab = \"Date\", ylab = \"Displacement (mm)\", pch = 16)\n",
    "plot(df_u$'date-time', df_u$'u (mm)',main= \"Relative up displacement for HANM\", xlab = \"Date\", ylab = \"Displacement (mm)\", pch = 16)"
   ]
  },
  {
   "cell_type": "markdown",
   "metadata": {},
   "source": [
    "Done the same as for east data"
   ]
  },
  {
   "cell_type": "markdown",
   "metadata": {},
   "source": [
    "## &nbsp; 5. Save"
   ]
  },
  {
   "cell_type": "markdown",
   "metadata": {},
   "source": [
    "###### Make a new data frame with only that data we wish to save"
   ]
  },
  {
   "cell_type": "code",
   "execution_count": 14,
   "metadata": {},
   "outputs": [],
   "source": [
    "new_df <- data.frame(\n",
    "    df_e$'date-time', \n",
    "    df_e$'e (mm)', \n",
    "    df_n$'n (mm)',\n",
    "    df_u$'u (mm)'\n",
    ")\n",
    "colnames(new_df) = c(\"date-time\", \"e (mm)\", 'n (mm)','u (mm)')"
   ]
  },
  {
   "cell_type": "markdown",
   "metadata": {},
   "source": [
    "Make a new data frame with 4 columns holding the date-time data, east displacement data, north displacement data and up displacement data. Then rename the columns using ` colnames(new_df)`"
   ]
  },
  {
   "cell_type": "markdown",
   "metadata": {},
   "source": [
    "###### Print the first few lines of this data frame"
   ]
  },
  {
   "cell_type": "code",
   "execution_count": 15,
   "metadata": {},
   "outputs": [
    {
     "data": {
      "text/html": [
       "<table>\n",
       "<thead><tr><th scope=col>date-time</th><th scope=col>e (mm)</th><th scope=col>n (mm)</th><th scope=col>u (mm)</th></tr></thead>\n",
       "<tbody>\n",
       "\t<tr><td>2014-06-04 11:59:00</td><td>-305.94            </td><td>7.64               </td><td>41.20              </td></tr>\n",
       "\t<tr><td>2014-06-05 11:59:00</td><td>-301.13            </td><td>5.40               </td><td>32.74              </td></tr>\n",
       "\t<tr><td>2014-06-06 11:59:00</td><td>-296.94            </td><td>4.96               </td><td>30.70              </td></tr>\n",
       "\t<tr><td>2014-06-07 11:59:00</td><td>-300.43            </td><td>6.59               </td><td>42.30              </td></tr>\n",
       "\t<tr><td>2014-06-08 11:59:00</td><td>-301.36            </td><td>5.80               </td><td>26.76              </td></tr>\n",
       "\t<tr><td>2014-06-09 11:59:00</td><td>-301.55            </td><td>6.93               </td><td>34.16              </td></tr>\n",
       "</tbody>\n",
       "</table>\n"
      ],
      "text/latex": [
       "\\begin{tabular}{r|llll}\n",
       " date-time & e (mm) & n (mm) & u (mm)\\\\\n",
       "\\hline\n",
       "\t 2014-06-04 11:59:00 & -305.94             & 7.64                & 41.20              \\\\\n",
       "\t 2014-06-05 11:59:00 & -301.13             & 5.40                & 32.74              \\\\\n",
       "\t 2014-06-06 11:59:00 & -296.94             & 4.96                & 30.70              \\\\\n",
       "\t 2014-06-07 11:59:00 & -300.43             & 6.59                & 42.30              \\\\\n",
       "\t 2014-06-08 11:59:00 & -301.36             & 5.80                & 26.76              \\\\\n",
       "\t 2014-06-09 11:59:00 & -301.55             & 6.93                & 34.16              \\\\\n",
       "\\end{tabular}\n"
      ],
      "text/markdown": [
       "\n",
       "date-time | e (mm) | n (mm) | u (mm) | \n",
       "|---|---|---|---|---|---|\n",
       "| 2014-06-04 11:59:00 | -305.94             | 7.64                | 41.20               | \n",
       "| 2014-06-05 11:59:00 | -301.13             | 5.40                | 32.74               | \n",
       "| 2014-06-06 11:59:00 | -296.94             | 4.96                | 30.70               | \n",
       "| 2014-06-07 11:59:00 | -300.43             | 6.59                | 42.30               | \n",
       "| 2014-06-08 11:59:00 | -301.36             | 5.80                | 26.76               | \n",
       "| 2014-06-09 11:59:00 | -301.55             | 6.93                | 34.16               | \n",
       "\n",
       "\n"
      ],
      "text/plain": [
       "  date-time           e (mm)  n (mm) u (mm)\n",
       "1 2014-06-04 11:59:00 -305.94 7.64   41.20 \n",
       "2 2014-06-05 11:59:00 -301.13 5.40   32.74 \n",
       "3 2014-06-06 11:59:00 -296.94 4.96   30.70 \n",
       "4 2014-06-07 11:59:00 -300.43 6.59   42.30 \n",
       "5 2014-06-08 11:59:00 -301.36 5.80   26.76 \n",
       "6 2014-06-09 11:59:00 -301.55 6.93   34.16 "
      ]
     },
     "metadata": {},
     "output_type": "display_data"
    }
   ],
   "source": [
    "head(new_df)"
   ]
  },
  {
   "cell_type": "markdown",
   "metadata": {},
   "source": [
    "Here we can see on the 4th of June 2014 the site HANM had moved 300.73 mm, west 7.44 mm north and 40.82 mm up from its initial position."
   ]
  },
  {
   "cell_type": "markdown",
   "metadata": {},
   "source": [
    "###### Save this data frame as a CSV"
   ]
  },
  {
   "cell_type": "code",
   "execution_count": 16,
   "metadata": {},
   "outputs": [],
   "source": [
    "write.csv(new_df, \"HANM.csv\")"
   ]
  },
  {
   "cell_type": "markdown",
   "metadata": {},
   "source": [
    "This saves `new_df` as a csv file with the name HANM. This file will be saved in the same folder as this code is run from. "
   ]
  },
  {
   "cell_type": "markdown",
   "metadata": {},
   "source": [
    "## Useful links"
   ]
  },
  {
   "cell_type": "markdown",
   "metadata": {},
   "source": [
    "<ul>\n",
    "    <li>This notebook uses the language R https://www.r-project.org/\n",
    "    <li>This notebook uses the library httr https://cran.r-project.org/web/packages/httr/vignettes/quickstart.html\n",
    "    <li>To understand more about data frames go to https://www.rdocumentation.org/packages/base/versions/3.5.1/topics/data.frame\n",
    "    <li>There is a notebook on this data set in Python at (link to put in)\n",
    "    <li>More tutorials on GNSS data can be found at (link to right place in github) \n",
    "    <li>To learn more about station codes go to https://www.geonet.org.nz/data/supplementary/channels\n",
    "    <li>For more on data types in FITS go to http://fits.geonet.org.nz/type (for best formatting use firefox)\n",
    "    <li>For more on FITS go to https://fits.geonet.org.nz/api-docs/    \n",
    "</ul>        "
   ]
  }
 ],
 "metadata": {
  "kernelspec": {
   "display_name": "R",
   "language": "R",
   "name": "ir"
  },
  "language_info": {
   "codemirror_mode": "r",
   "file_extension": ".r",
   "mimetype": "text/x-r-source",
   "name": "R",
   "pygments_lexer": "r",
   "version": "3.5.1"
  }
 },
 "nbformat": 4,
 "nbformat_minor": 2
}
