{
 "cells": [
  {
   "cell_type": "markdown",
   "metadata": {},
   "source": [
    "# <center>Introduction on Using Python to access and analyse GeoNet's Acoustic Data"
   ]
  },
  {
   "cell_type": "markdown",
   "metadata": {},
   "source": [
    "This tutorial will demonstrate how to get seismic-acoustic waveform data to study volcanic events. By the end of this notebook the user will have make a graph like the one below. <img src=\"accoustic.png\">"
   ]
  },
  {
   "cell_type": "markdown",
   "metadata": {},
   "source": [
    "## Table of Contents"
   ]
  },
  {
   "cell_type": "markdown",
   "metadata": {},
   "source": [
    "### 1. Introduction\n",
    "### 2. Set up\n",
    "### 3. Get the Location of all  Stations with Seismic-acoustic Data\n",
    "### 4. Look more at one Station\n",
    "### 5. Get Waveform Data\n",
    "#####  &nbsp; 5. 1 Trim Waveform data\n",
    "#####  &nbsp; 5. 2 Save Waveform Data\n",
    "### 6. Getting Near real-time waveform data"
   ]
  },
  {
   "cell_type": "markdown",
   "metadata": {},
   "source": [
    "##  &nbsp; 1. Introduction"
   ]
  },
  {
   "cell_type": "markdown",
   "metadata": {},
   "source": [
    "In this tutorial the user will learn how to use Python to be able to access the data recorded by GeoNet's network of seismic-acoustic sensors’. Then we will look at some ways we can interact with this data in Python. "
   ]
  },
  {
   "cell_type": "markdown",
   "metadata": {},
   "source": [
    "If not using binder the user will need to install the packages obspy (https://github.com/obspy/obspy/wiki) and basemap (https://matplotlib.org/basemap/) useing `pip install (package name)` in the terminal / command prompt / Anaconda prompt"
   ]
  },
  {
   "cell_type": "markdown",
   "metadata": {},
   "source": [
    "This tutorial assumes that the user have basic knowledge of Python.\n",
    "We will be using a package called obspy (https://github.com/obspy/obspy/wiki)"
   ]
  },
  {
   "cell_type": "markdown",
   "metadata": {},
   "source": [
    "###### About GeoNet's seismic-acoustic"
   ]
  },
  {
   "cell_type": "markdown",
   "metadata": {},
   "source": [
    "GeoNet collects seismic-acoustic data around some of New Zealands’ volcanos. This data is collected at 2 sample rates 100Hz and 1Hz. Each channel of data has a 3-letter channel code that tells you what data is on that channel. All seismic-acoustic sensors have a channel code in the form (H/L) D F\n",
    "<ul>\n",
    "<li>The first letter is the sample rate. H = 100Hz and L = 1Hz, \n",
    "<li>The second letter defines that is a seismic-acoustic sensor \n",
    "<li>The third letter indicates this sensor is a single component vertical sensor \n",
    "</ul>  \n",
    "\n",
    "For a full list see https://www.geonet.org.nz/data/supplementary/channels"
   ]
  },
  {
   "cell_type": "markdown",
   "metadata": {},
   "source": [
    "Note that in operational situation seismic-acoustic data is consider together with weak motion data. For how to get this data in python go to GeoNet_FDSN_demo_dataselect https://github.com/GeoNet/data-tutorials/blob/master/Seismic_Data/Python/GeoNet_FDSN_demo_dataselect.ipynb"
   ]
  },
  {
   "cell_type": "markdown",
   "metadata": {},
   "source": [
    "## &nbsp; 2. Set up"
   ]
  },
  {
   "cell_type": "markdown",
   "metadata": {},
   "source": [
    "###### Import obspy"
   ]
  },
  {
   "cell_type": "code",
   "execution_count": 1,
   "metadata": {},
   "outputs": [],
   "source": [
    "from obspy.clients.fdsn import Client as FDSNClient # Import a module to retrieve data from FDSN Web Services \n",
    "from obspy import UTCDateTime # Import a module to manage time series format and rename as UTCDateTime\n",
    "from obspy import read_inventory # Imports module to read stattion data"
   ]
  },
  {
   "cell_type": "markdown",
   "metadata": {},
   "source": [
    "For more information on obspy run `help(obspy)`"
   ]
  },
  {
   "cell_type": "code",
   "execution_count": 2,
   "metadata": {},
   "outputs": [],
   "source": [
    "#import matplotlib\n",
    "#matplotlib.use('TkAgg')"
   ]
  },
  {
   "cell_type": "markdown",
   "metadata": {},
   "source": [
    "`matplotlib` is the package used to make plots in python. \n",
    "The line `matplotlib.use('TkAgg')` will make all plots open in an interactive window, known as a Tkinter window, so you can zoom in on plots and save them as a png. (The `Tk` is to make it in a Tkinter window and the `Agg` stands for the Anti-Grain Geometry rendering engine that is used to make high-quality images). \n",
    "This is a needed line of code in Python 2 to stop plotting errors, but is not need in Python 3."
   ]
  },
  {
   "cell_type": "markdown",
   "metadata": {},
   "source": [
    "###### Set up URL's"
   ]
  },
  {
   "cell_type": "code",
   "execution_count": 3,
   "metadata": {},
   "outputs": [],
   "source": [
    "client = FDSNClient(\"GEONET\")\n",
    "client_nrt = FDSNClient('https://service-nrt.geonet.org.nz')"
   ]
  },
  {
   "cell_type": "markdown",
   "metadata": {},
   "source": [
    "GeoNet has two FDSN services <br>\n",
    "For waveform data\n",
    "an archive service holds verified data starting 7 days after collection, \n",
    "and a near real-time service holds data that could be incomplete from the last 8 days<br>"
   ]
  },
  {
   "cell_type": "markdown",
   "metadata": {},
   "source": [
    "## &nbsp;  3. Get the Location of all  Stations with Seismic-acoustic Data"
   ]
  },
  {
   "cell_type": "markdown",
   "metadata": {},
   "source": [
    "###### Set the start and end time of the data you want to select"
   ]
  },
  {
   "cell_type": "code",
   "execution_count": 4,
   "metadata": {},
   "outputs": [],
   "source": [
    "starttime = UTCDateTime(\"2012-08-05\") # initial time\n",
    "endtime = UTCDateTime(\"2012-08-07\") # end time "
   ]
  },
  {
   "cell_type": "markdown",
   "metadata": {},
   "source": [
    "Note that time must be in UTC (Universal Time Coordinated) which is 13 or 12 hours behind NZT (New Zealand Time) (depending on daylight savings time)."
   ]
  },
  {
   "cell_type": "markdown",
   "metadata": {},
   "source": [
    "###### Get all stations that have seismic-acoustic data"
   ]
  },
  {
   "cell_type": "code",
   "execution_count": 5,
   "metadata": {},
   "outputs": [],
   "source": [
    "Inventory = client.get_stations(starttime = starttime,endtime = endtime, channel=\"?D?\" )"
   ]
  },
  {
   "cell_type": "markdown",
   "metadata": {},
   "source": [
    "`get_stations` gets all stations that where running at some point between `starttime` and `endtime` and hold to any other conditions put in the `()`such as channel, station, latitude and longitude with a maxradius<br>\n",
    "All seismic-acoustic sensors have a channel code in the form (H/L) D F <br>\n",
    "The `?` is a wild card that will look for data with a channel code in the format (any letter)D(any letter) <br>\n",
    "Therefor the code above finds all stations which have a channel code in the format (any letter)D(any letter)<br> "
   ]
  },
  {
   "cell_type": "markdown",
   "metadata": {},
   "source": [
    "###### Print all stations that have seismic-acoustic data"
   ]
  },
  {
   "cell_type": "code",
   "execution_count": 6,
   "metadata": {},
   "outputs": [
    {
     "data": {
      "text/plain": [
       "Inventory created at 2019-02-01T02:17:55.000000Z\n",
       "\tCreated by: Delta\n",
       "\t\t    \n",
       "\tSending institution: GeoNet (WEL(GNS_Test))\n",
       "\tContains:\n",
       "\t\tNetworks (1):\n",
       "\t\t\tNZ\n",
       "\t\tStations (19):\n",
       "\t\t\tNZ.BCKZ (Boat Cove)\n",
       "\t\t\tNZ.COVZ (Chateau Observatory)\n",
       "\t\t\tNZ.FWVZ (Far West)\n",
       "\t\t\tNZ.GBIH (Great Barrier Island Hydrophone Array)\n",
       "\t\t\tNZ.GNSW (GNS Wairakei Seismo Lab)\n",
       "\t\t\tNZ.IVVZ (Iwikau Village)\n",
       "\t\t\tNZ.KHEZ (Kahui Hut)\n",
       "\t\t\tNZ.KRVZ (Karewarewa)\n",
       "\t\t\tNZ.MAVZ (Matarangi)\n",
       "\t\t\tNZ.NEZ (North Egmont)\n",
       "\t\t\tNZ.NGZ (Ngauruhoe)\n",
       "\t\t\tNZ.OTVZ (Oturere)\n",
       "\t\t\tNZ.PREZ (Palmer Road)\n",
       "\t\t\tNZ.TOVZ (Turoa Road End)\n",
       "\t\t\tNZ.TRVZ (Turoa)\n",
       "\t\t\tNZ.WHVZ (Whangaehu Hut)\n",
       "\t\t\tNZ.WIZ (White Island)\n",
       "\t\t\tNZ.WNVZ (Wahianoa)\n",
       "\t\t\tNZ.WTVZ (West Tongariro)\n",
       "\t\tChannels (0):\n"
      ]
     },
     "execution_count": 6,
     "metadata": {},
     "output_type": "execute_result"
    }
   ],
   "source": [
    "Inventory"
   ]
  },
  {
   "cell_type": "markdown",
   "metadata": {},
   "source": [
    "###### Plot all stations that have seismic-acoustic data"
   ]
  },
  {
   "cell_type": "code",
   "execution_count": 7,
   "metadata": {
    "scrolled": true
   },
   "outputs": [],
   "source": [
    "Inventory.plot(projection=\"local\") "
   ]
  },
  {
   "cell_type": "markdown",
   "metadata": {},
   "source": [
    "`projection=\"local\"` makes a plot that is a map and has all the data points in it. More information can be found at https://matplotlib.org/basemap/"
   ]
  },
  {
   "cell_type": "markdown",
   "metadata": {},
   "source": [
    "### &nbsp;  4. Look more at one Station"
   ]
  },
  {
   "cell_type": "markdown",
   "metadata": {},
   "source": [
    "In this section we will learn how to get more information on a station including the instrument response information."
   ]
  },
  {
   "cell_type": "markdown",
   "metadata": {},
   "source": [
    "###### Get more data on the Iwikau Village station"
   ]
  },
  {
   "cell_type": "code",
   "execution_count": 8,
   "metadata": {},
   "outputs": [],
   "source": [
    "site = client.get_stations(starttime = starttime,endtime = endtime,station=\"IVVZ\", level=\"response\" )"
   ]
  },
  {
   "cell_type": "markdown",
   "metadata": {},
   "source": [
    "Having seen the Iwikau Village station on the map and its station code, I can get more data about this station. <br>\n",
    "We can use the parameter `level` to pick the \"level\" of detail in data we want. The “level” of the data is about how much on each station you get. `level=\"response\"` is the  most complete \"level\" of data we can get from `get_stations` and includes the instrument response data.<br>\n",
    "`station=\"IVVZ\"` say that the code get data for the station with the station code IVVZ<br>"
   ]
  },
  {
   "cell_type": "markdown",
   "metadata": {},
   "source": [
    "###### Print Iwikau Village station metadata"
   ]
  },
  {
   "cell_type": "code",
   "execution_count": 9,
   "metadata": {},
   "outputs": [
    {
     "name": "stdout",
     "output_type": "stream",
     "text": [
      "Station IVVZ (Iwikau Village)\n",
      "\tStation Code: IVVZ\n",
      "\tChannel Count: 2/2 (Selected/Total)\n",
      "\t2009-01-29T00:00:00.000000Z - \n",
      "\tAccess: open \n",
      "\tLatitude: -39.24, Longitude: 175.56, Elevation: 1663.0 m\n",
      "\tAvailable Channels:\n",
      "\t\tIVVZ.30.HDF, IVVZ.30.LDF\n"
     ]
    }
   ],
   "source": [
    "channels = site[0][0]\n",
    "print(channels)"
   ]
  },
  {
   "cell_type": "markdown",
   "metadata": {},
   "source": [
    "Remember the 3 letter channel code.\n",
    "All seismic-acoustic sensors have a channel code in the form (H/L) D F\n",
    "<ul>\n",
    "<li>The first letter is the sample rate. H = 100Hz and L = 1Hz, \n",
    "<li>The second letter defines that is a seismic-acoustic sensor \n",
    "<li>The third letter indicates this sensor is a single component vertical sensor \n",
    "</ul>    \n",
    "\n",
    "Note that `site [0][0]` says get the first network's first station."
   ]
  },
  {
   "cell_type": "markdown",
   "metadata": {},
   "source": [
    "###### Print Iwikau Village Channel metadata including instrument response data"
   ]
  },
  {
   "cell_type": "code",
   "execution_count": 10,
   "metadata": {},
   "outputs": [
    {
     "name": "stdout",
     "output_type": "stream",
     "text": [
      "Channel 'LDF', Location '30' \n",
      "\tTime range: 2009-01-29T00:00:00.000000Z - --\n",
      "\tLatitude: -39.24, Longitude: 175.56, Elevation: 1663.0 m, Local Depth: 0.0 m\n",
      "\tAzimuth: 0.00 degrees from north, clockwise\n",
      "\tDip: 0.00 degrees down from horizontal\n",
      "\tChannel types: CONTINUOUS, WEATHER\n",
      "\tSampling Rate: 1.00 Hz\n",
      "\tSensor (Description): Barometer (Setra 270)\n",
      "\tResponse information available\n",
      "Channel Response\n",
      "\tFrom hPa () to count ()\n",
      "\tOverall Sensitivity: 4194.3 defined at 0.100 Hz\n",
      "\t3 stages:\n",
      "\t\tStage 1: PolynomialResponseStage from hPa to V, gain: 0.01\n",
      "\t\tStage 2: CoefficientsTypeResponseStage from V to count, gain: 419430\n",
      "\t\tStage 3: FIRResponseStage from count to count, gain: 1\n",
      "Channel 'HDF', Location '30' \n",
      "\tTime range: 2009-01-29T00:00:00.000000Z - --\n",
      "\tLatitude: -39.24, Longitude: 175.56, Elevation: 1663.0 m, Local Depth: 0.0 m\n",
      "\tAzimuth: 0.00 degrees from north, clockwise\n",
      "\tDip: 0.00 degrees down from horizontal\n",
      "\tChannel types: CONTINUOUS, WEATHER\n",
      "\tSampling Rate: 100.00 Hz\n",
      "\tSensor (Description): Barometer (Setra 270)\n",
      "\tResponse information available\n",
      "Channel Response\n",
      "\tFrom hPa () to count ()\n",
      "\tOverall Sensitivity: 4194.3 defined at 15.000 Hz\n",
      "\t3 stages:\n",
      "\t\tStage 1: PolynomialResponseStage from hPa to V, gain: 0.01\n",
      "\t\tStage 2: CoefficientsTypeResponseStage from V to count, gain: 419430\n",
      "\t\tStage 3: FIRResponseStage from count to count, gain: 1\n"
     ]
    }
   ],
   "source": [
    "print(channels[0])\n",
    "print(channels[0].response)\n",
    "print(channels[1])\n",
    "print(channels[1].response)"
   ]
  },
  {
   "cell_type": "markdown",
   "metadata": {},
   "source": [
    "## &nbsp;  5. Get Waveform Data"
   ]
  },
  {
   "cell_type": "code",
   "execution_count": 26,
   "metadata": {},
   "outputs": [],
   "source": [
    "IVVZ= client.get_waveforms('NZ',\"IVVZ\", \"*\", \"?DF\", starttime,endtime)"
   ]
  },
  {
   "cell_type": "markdown",
   "metadata": {},
   "source": [
    "The parameters are in the order network, station, location, channel, starttime, and endtime.\n",
    "The ? is a wildcard character for only a single character, so we will get data with channel codes HDF and LDF.\n",
    "The * is a wildcard character that says it will look for data with any location code."
   ]
  },
  {
   "cell_type": "markdown",
   "metadata": {},
   "source": [
    "###### Remove instrument sensitivity"
   ]
  },
  {
   "cell_type": "code",
   "execution_count": 28,
   "metadata": {},
   "outputs": [
    {
     "data": {
      "text/plain": [
       "2 Trace(s) in Stream:\n",
       "NZ.IVVZ.30.HDF | 2012-08-04T23:59:55.578391Z - 2012-08-07T00:00:01.498391Z | 100.0 Hz, 17280593 samples\n",
       "NZ.IVVZ.30.LDF | 2012-08-04T23:53:46.069517Z - 2012-08-07T00:03:21.069517Z | 1.0 Hz, 173376 samples"
      ]
     },
     "execution_count": 28,
     "metadata": {},
     "output_type": "execute_result"
    }
   ],
   "source": [
    "IVVZ.remove_sensitivity(inventory=site)"
   ]
  },
  {
   "cell_type": "markdown",
   "metadata": {},
   "source": [
    "`remove_sensitivity` effectively converts from counts(the output of the digitiser) into hPa (hectopascals). This does not remove all the instrument response as this changes with frequency, but it removes it based on the line in the channel response information “Overall Sensitivity: X defined at Y Hz”. "
   ]
  },
  {
   "cell_type": "markdown",
   "metadata": {},
   "source": [
    "###### Check basic metadata from miniSEED header"
   ]
  },
  {
   "cell_type": "code",
   "execution_count": 13,
   "metadata": {},
   "outputs": [
    {
     "name": "stdout",
     "output_type": "stream",
     "text": [
      "               network: NZ\n",
      "               station: IVVZ\n",
      "              location: 30\n",
      "               channel: HDF\n",
      "             starttime: 2012-08-04T23:59:55.578391Z\n",
      "               endtime: 2012-08-07T00:00:01.498391Z\n",
      "         sampling_rate: 100.0\n",
      "                 delta: 0.01\n",
      "                  npts: 17280593\n",
      "                 calib: 1.0\n",
      "_fdsnws_dataselect_url: http://service.geonet.org.nz/fdsnws/dataselect/1/query\n",
      "               _format: MSEED\n",
      "                 mseed: AttribDict({'dataquality': 'D', 'number_of_records': 37568, 'encoding': 'STEIM2', 'byteorder': '>', 'record_length': 512, 'filesize': 19385344})\n",
      "            processing: ['ObsPy 1.1.0: remove_sensitivity(inventory=<obspy.core.inventory.inventory.Inventory object at 0x000001DEA36D5EB8>)'] \n",
      "\n",
      "               network: NZ\n",
      "               station: IVVZ\n",
      "              location: 30\n",
      "               channel: LDF\n",
      "             starttime: 2012-08-04T23:53:46.069517Z\n",
      "               endtime: 2012-08-07T00:03:21.069517Z\n",
      "         sampling_rate: 1.0\n",
      "                 delta: 1.0\n",
      "                  npts: 173376\n",
      "                 calib: 1.0\n",
      "_fdsnws_dataselect_url: http://service.geonet.org.nz/fdsnws/dataselect/1/query\n",
      "               _format: MSEED\n",
      "                 mseed: AttribDict({'dataquality': 'D', 'number_of_records': 294, 'encoding': 'STEIM2', 'byteorder': '>', 'record_length': 512, 'filesize': 19385344})\n",
      "            processing: ['ObsPy 1.1.0: remove_sensitivity(inventory=<obspy.core.inventory.inventory.Inventory object at 0x000001DEA36D5EB8>)']\n"
     ]
    }
   ],
   "source": [
    "print(IVVZ[0].stats, \"\\n\")\n",
    "print(IVVZ[1].stats)"
   ]
  },
  {
   "cell_type": "markdown",
   "metadata": {},
   "source": [
    "###### Plot this data"
   ]
  },
  {
   "cell_type": "code",
   "execution_count": 29,
   "metadata": {},
   "outputs": [
    {
     "data": {
      "image/png": "[encoded data removed]",
      "text/plain": [
       "<Figure size 800x500 with 2 Axes>"
      ]
     },
     "metadata": {
      "needs_background": "light"
     },
     "output_type": "display_data"
    }
   ],
   "source": [
    "IVVZ.plot()"
   ]
  },
  {
   "cell_type": "markdown",
   "metadata": {},
   "source": [
    "These graphs show time vs hPa. The top graph in the show the data at 100Hz (HDF) while the bottom one shows it at 1Hz (LDF)"
   ]
  },
  {
   "cell_type": "markdown",
   "metadata": {},
   "source": [
    "##   &nbsp; 5. 1 Trim Waveform data"
   ]
  },
  {
   "cell_type": "markdown",
   "metadata": {},
   "source": [
    "In this example there is a point of interest at about midday on the 2nd day, so we want to “zoom in” on this point."
   ]
  },
  {
   "cell_type": "markdown",
   "metadata": {},
   "source": [
    "###### Set the start and end time of the data you want to select"
   ]
  },
  {
   "cell_type": "code",
   "execution_count": 15,
   "metadata": {},
   "outputs": [],
   "source": [
    "start = UTCDateTime(\"2012-08-06T11:50\") # initial time\n",
    "end = UTCDateTime(\"2012-08-06T12:10\") # end time "
   ]
  },
  {
   "cell_type": "markdown",
   "metadata": {},
   "source": [
    "###### Trim data"
   ]
  },
  {
   "cell_type": "code",
   "execution_count": 16,
   "metadata": {},
   "outputs": [
    {
     "data": {
      "text/plain": [
       "NZ.IVVZ.30.HDF | 2012-08-06T11:49:59.998391Z - 2012-08-06T12:09:59.998391Z | 100.0 Hz, 120001 samples"
      ]
     },
     "execution_count": 16,
     "metadata": {},
     "output_type": "execute_result"
    }
   ],
   "source": [
    "IVVZ[0].trim(start, end)"
   ]
  },
  {
   "cell_type": "markdown",
   "metadata": {},
   "source": [
    "`trim`\"zoom in\" on part of the data that you already have. Here, we are zoom in on the 100Hz data for between 11.50 and 12.10."
   ]
  },
  {
   "cell_type": "markdown",
   "metadata": {},
   "source": [
    "###### Plot data"
   ]
  },
  {
   "cell_type": "code",
   "execution_count": 17,
   "metadata": {},
   "outputs": [
    {
     "data": {
      "image/png": "[encoded data removed]",
      "text/plain": [
       "<Figure size 800x250 with 1 Axes>"
      ]
     },
     "metadata": {
      "needs_background": "light"
     },
     "output_type": "display_data"
    }
   ],
   "source": [
    "IVVZ[0].plot()"
   ]
  },
  {
   "cell_type": "markdown",
   "metadata": {},
   "source": [
    "###### Plot spectrogram"
   ]
  },
  {
   "cell_type": "code",
   "execution_count": 18,
   "metadata": {},
   "outputs": [
    {
     "data": {
      "image/png": "[encoded data removed]",
      "text/plain": [
       "<Figure size 432x288 with 1 Axes>"
      ]
     },
     "metadata": {
      "needs_background": "light"
     },
     "output_type": "display_data"
    }
   ],
   "source": [
    "IVVZ[0].spectrogram(log=True)"
   ]
  },
  {
   "cell_type": "markdown",
   "metadata": {},
   "source": [
    "##  &nbsp; 5. 2 Save Waveform Data"
   ]
  },
  {
   "cell_type": "code",
   "execution_count": 19,
   "metadata": {},
   "outputs": [],
   "source": [
    "IVVZ[0].write('IVVZ.csv', format='TSPAIR')"
   ]
  },
  {
   "cell_type": "markdown",
   "metadata": {},
   "source": [
    "Files are save into the same folder that this notebook is in. <br>\n",
    "Files are saved in .csv format to be able to opened by most spreadsheet software.<br>\n",
    "`format = 'TSPAIR'` makes the data into a two column list of time and the sample values <br>\n",
    "For more information on this you can go to http://ds.iris.edu/ds/nodes/dmc/data/formats/simple-ascii/"
   ]
  },
  {
   "cell_type": "markdown",
   "metadata": {},
   "source": [
    "## &nbsp;  6. Getting Near real-time waveform data"
   ]
  },
  {
   "cell_type": "markdown",
   "metadata": {},
   "source": [
    "###### Set new start and end time of the data you want to look at"
   ]
  },
  {
   "cell_type": "code",
   "execution_count": 20,
   "metadata": {},
   "outputs": [],
   "source": [
    "t1 = UTCDateTime.now()-777600 #9 days ago\n",
    "t2 = UTCDateTime.now()-518400 #6 days ago"
   ]
  },
  {
   "cell_type": "markdown",
   "metadata": {},
   "source": [
    "Note that time must be in UTC (Universal Time Coordinated) which is 13 or 12 hours behind NZT (New Zealand Time) (depending on daylight savings time).\n",
    "There are online converters if needed.\n",
    "`UTCDateTime.now()-777600` say take the time the computer says it is now, convert it to UTC and then takes away 777,600 seconds from it, which is $60$(minutes)$*60$(seconds)$*24$(hours)$*9$(days). "
   ]
  },
  {
   "cell_type": "markdown",
   "metadata": {},
   "source": [
    "###### Try both near real-time and  archive service to get waveform data"
   ]
  },
  {
   "cell_type": "code",
   "execution_count": 21,
   "metadata": {},
   "outputs": [],
   "source": [
    "try:\n",
    "    stnrt = client_nrt.get_waveforms('NZ',\"IVVZ\", \"30\", \"LD?\", t1 , t2)#try near real-time\n",
    "except:\n",
    "    print('nrt client not successful')\n",
    "    \n",
    "try:\n",
    "    starc = client.get_waveforms('NZ',\"IVVZ\", \"30\", \"LD?\", t1 , t2)#try achive\n",
    "except:\n",
    "    print('arc client not successful')"
   ]
  },
  {
   "cell_type": "markdown",
   "metadata": {},
   "source": [
    "Remember that GeoNet has two FDSN services <br>\n",
    "An archive service holds verified data starting 7 days after collection<br>\n",
    "A near real-time service holds data that could be incomplete from the last 8 days<br>\n",
    "As the time between 9 and 6 days overlaps this time the code tries to get the data from both services<br>"
   ]
  },
  {
   "cell_type": "markdown",
   "metadata": {},
   "source": [
    "###### Merge this data"
   ]
  },
  {
   "cell_type": "code",
   "execution_count": 22,
   "metadata": {},
   "outputs": [
    {
     "data": {
      "text/plain": [
       "1 Trace(s) in Stream:\n",
       "NZ.IVVZ.30.LDF | 2019-01-25T20:26:21.069539Z - 2019-01-28T20:35:02.069539Z | 1.0 Hz, 259722 samples"
      ]
     },
     "execution_count": 22,
     "metadata": {},
     "output_type": "execute_result"
    }
   ],
   "source": [
    "st = stnrt #rename near real-time data \n",
    "st += starc #add archive data to this \n",
    "st.merge(fill_value = 'interpolate') #merge this data"
   ]
  },
  {
   "cell_type": "markdown",
   "metadata": {},
   "source": [
    "If data is not merged then it is harder to plot and manipulate. \n",
    "`st += starc` is the same as `st = st + starc`. \n",
    "`fill_value = 'interpolate'` says that if there is a missing value then it will be filled with a \"best guess\" data point by looking at the two data points next to it. "
   ]
  },
  {
   "cell_type": "markdown",
   "metadata": {},
   "source": [
    "###### Remove instrument sensitivity"
   ]
  },
  {
   "cell_type": "code",
   "execution_count": 23,
   "metadata": {},
   "outputs": [
    {
     "data": {
      "text/plain": [
       "1 Trace(s) in Stream:\n",
       "NZ.IVVZ.30.LDF | 2019-01-25T20:26:21.069539Z - 2019-01-28T20:35:02.069539Z | 1.0 Hz, 259722 samples"
      ]
     },
     "execution_count": 23,
     "metadata": {},
     "output_type": "execute_result"
    }
   ],
   "source": [
    "st.remove_sensitivity(inventory=site)"
   ]
  },
  {
   "cell_type": "markdown",
   "metadata": {},
   "source": [
    "###### Plot this data"
   ]
  },
  {
   "cell_type": "code",
   "execution_count": 31,
   "metadata": {},
   "outputs": [
    {
     "data": {
      "image/png": "[encoded data removed]",
      "text/plain": [
       "<Figure size 800x250 with 1 Axes>"
      ]
     },
     "metadata": {
      "needs_background": "light"
     },
     "output_type": "display_data"
    }
   ],
   "source": [
    "st.plot()"
   ]
  },
  {
   "cell_type": "code",
   "execution_count": 25,
   "metadata": {},
   "outputs": [
    {
     "data": {
      "image/png": "[encoded data removed]",
      "text/plain": [
       "<Figure size 432x288 with 1 Axes>"
      ]
     },
     "metadata": {
      "needs_background": "light"
     },
     "output_type": "display_data"
    },
    {
     "data": {
      "text/plain": [
       "[None]"
      ]
     },
     "execution_count": 25,
     "metadata": {},
     "output_type": "execute_result"
    }
   ],
   "source": [
    "st.spectrogram(log=True,samp_rate=1,wlen=1)"
   ]
  },
  {
   "cell_type": "markdown",
   "metadata": {},
   "source": [
    "## Useful links"
   ]
  },
  {
   "cell_type": "markdown",
   "metadata": {},
   "source": [
    "<ul>\n",
    "    <li>This notebook uses Python https://www.python.org/\n",
    "    <li>This notebook also uses obspy https://github.com/obspy/obspy/wiki\n",
    "    <li>For how to get weak motion data go to https://github.com/GeoNet/data-tutorials/blob/master/Seismic_Data/Python/GeoNet_FDSN_demo_dataselect.ipynb\n",
    "    <li>More tutorials on volcano data can be found at https://github.com/GeoNet/data-tutorials/blob/master/Volcano_Data   \n",
    "    <li>More tutorials on seimic data can be found at https://github.com/GeoNet/data-tutorials/blob/master/Seismic_Data\n",
    "</ul>"
   ]
  }
 ],
 "metadata": {
  "kernelspec": {
   "display_name": "Python 3",
   "language": "python",
   "name": "python3"
  },
  "language_info": {
   "codemirror_mode": {
    "name": "ipython",
    "version": 3
   },
   "file_extension": ".py",
   "mimetype": "text/x-python",
   "name": "python",
   "nbconvert_exporter": "python",
   "pygments_lexer": "ipython3",
   "version": "3.7.1"
  }
 },
 "nbformat": 4,
 "nbformat_minor": 2
}
