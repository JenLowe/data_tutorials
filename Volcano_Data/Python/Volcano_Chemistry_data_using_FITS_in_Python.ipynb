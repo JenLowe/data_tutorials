{
 "cells": [
  {
   "cell_type": "markdown",
   "metadata": {},
   "source": [
    "# <center>Introduction on Using Python to access GeoNet's Volcano Chemistry data"
   ]
  },
  {
   "cell_type": "markdown",
   "metadata": {},
   "source": [
    "In this tutorial we look at getting volcano chemistry data from a set area. This notebook has the functions needed to get data as well as some examples of how to use them. As a result the user will be able to make a table like the one below for a set area then get data and graph it<img src=\"sites.png\">\n",
    "<img src=\"plot.png\">\n"
   ]
  },
  {
   "cell_type": "markdown",
   "metadata": {},
   "source": [
    "## &nbsp; Table of contents"
   ]
  },
  {
   "cell_type": "markdown",
   "metadata": {},
   "source": [
    "### 1. Introduction\n",
    "### 2. Set Up \n",
    "### 3. Define Area of Interest\n",
    "### 4. Get Site Data\n",
    "### 5. Define Functions\n",
    "#### &nbsp; 5.1 Get Volcano Data\n",
    "#### &nbsp; 5.2 Get Methods\n",
    "### 6. Temperature Example\n",
    "#### &nbsp; 6.1 Get Methods used\n",
    "#### &nbsp; 6.2 Get observation data\n",
    "#### &nbsp; 6.3 Plot data\n",
    "#### &nbsp; 6.4 Trim data\n",
    "#### &nbsp; 6.5 Save data"
   ]
  },
  {
   "cell_type": "markdown",
   "metadata": {},
   "source": [
    "## &nbsp; 1. Introduction"
   ]
  },
  {
   "cell_type": "markdown",
   "metadata": {},
   "source": [
    "In this tutorial the user will learn how to use Python to access Volcano data.\n",
    "GeoNet has a API (Application Programming Interface) to access its Volcano data. The user doesn't need to know anything about APIs to use this tutorial. If you would like more info see https://fits.geonet.org.nz/api-docs/. "
   ]
  },
  {
   "cell_type": "markdown",
   "metadata": {},
   "source": [
    "To use this tutorial if not using binder you will need to install the package pandas (https://pandas.pydata.org/)."
   ]
  },
  {
   "cell_type": "markdown",
   "metadata": {},
   "source": [
    "This tutorial assumes that you have a basic knowledge of Python."
   ]
  },
  {
   "cell_type": "markdown",
   "metadata": {},
   "source": [
    "###### About GeoNet Volcano Chemistry data"
   ]
  },
  {
   "cell_type": "markdown",
   "metadata": {},
   "source": [
    "GeoNet uses many methods to monitor volcanic activity in and around NZ. One of the method's used is to analyse gas and water samples. <br>\n",
    "This chemistry data, dating back to the 1950’s, can be accessed using GeoNet’s API. \n",
    "The types of data and frequency of collection changes from site to site, but a full list of all types of data collected can be found at https://github.com/GeoNet/data-tutorials/blob/master/Volcano_Data/typeIDs.csv , or at http://fits.geonet.org.nz/type (for best formatting use firefox)"
   ]
  },
  {
   "cell_type": "markdown",
   "metadata": {},
   "source": [
    "For an overview on how GeoNet monitors volcanic activity go to https://www.geonet.org.nz/volcano/how"
   ]
  },
  {
   "cell_type": "markdown",
   "metadata": {},
   "source": [
    "## &nbsp; 2. Set Up "
   ]
  },
  {
   "cell_type": "markdown",
   "metadata": {},
   "source": [
    "###### Import packages"
   ]
  },
  {
   "cell_type": "code",
   "execution_count": 1,
   "metadata": {},
   "outputs": [],
   "source": [
    "import json # package to read json code\n",
    "import requests # package to get data from an API\n",
    "import pandas as pd # package for data frames\n",
    "import datetime # package to deal with time\n",
    "import matplotlib.pyplot as plt #package to do ploting"
   ]
  },
  {
   "cell_type": "markdown",
   "metadata": {},
   "source": [
    "## &nbsp; 3. Define Area of Interest"
   ]
  },
  {
   "cell_type": "markdown",
   "metadata": {},
   "source": [
    "You can define you area of interest in the shape of any polygon. In this example we will be looking at a square as our polygon. "
   ]
  },
  {
   "cell_type": "markdown",
   "metadata": {},
   "source": [
    "###### Define the longitude and latitude of the point of interest"
   ]
  },
  {
   "cell_type": "code",
   "execution_count": 2,
   "metadata": {},
   "outputs": [],
   "source": [
    "point_long = 175.565\n",
    "point_lat = -39.281\n",
    "box_size = 0.1"
   ]
  },
  {
   "cell_type": "markdown",
   "metadata": {},
   "source": [
    "Define the longitude and latitude of the point of interest as well as how far out from that point you want to look (`box_size`) in . e.g Here the point of interest is Mount Ruapehu and we have made a small box as to not include Mount Tongariro in this box."
   ]
  },
  {
   "cell_type": "markdown",
   "metadata": {},
   "source": [
    "###### Set parameters for area of interest."
   ]
  },
  {
   "cell_type": "code",
   "execution_count": 3,
   "metadata": {},
   "outputs": [],
   "source": [
    "long_max = str(point_long + box_size) \n",
    "long_min = str(point_long - box_size)\n",
    "lat_max  = str(point_lat - box_size)\n",
    "lat_min  = str(point_lat + box_size)"
   ]
  },
  {
   "cell_type": "markdown",
   "metadata": {},
   "source": [
    "This set the 4 edge points of the box we will look for sites in."
   ]
  },
  {
   "cell_type": "markdown",
   "metadata": {},
   "source": [
    "###### Make box"
   ]
  },
  {
   "cell_type": "code",
   "execution_count": 4,
   "metadata": {},
   "outputs": [],
   "source": [
    "poly = (\"POLYGON((\" +long_max + \"+\" +lat_max\n",
    "      +\",\"+long_max+\"+\"+lat_min\n",
    "      +\",\"+long_min+\"+\"+lat_min\n",
    "      +\",\"+long_min+\"+\"+lat_max\n",
    "      +\",\"+long_max+\"+\"+lat_max +\"))\")"
   ]
  },
  {
   "cell_type": "markdown",
   "metadata": {},
   "source": [
    "Here, we use the points worked out before to make a box that is formatted in the right way to put into our URL later"
   ]
  },
  {
   "cell_type": "markdown",
   "metadata": {},
   "source": [
    "## &nbsp; 4. Get Site Data"
   ]
  },
  {
   "cell_type": "markdown",
   "metadata": {},
   "source": [
    "###### Set URL"
   ]
  },
  {
   "cell_type": "code",
   "execution_count": 5,
   "metadata": {},
   "outputs": [],
   "source": [
    "base_url = \"https://fits.geonet.org.nz/\"\n",
    "endpoint = \"site\""
   ]
  },
  {
   "cell_type": "markdown",
   "metadata": {},
   "source": [
    "The base URL should be set as above, and the endpoint is set to site to get the site data. Site data is the locations, names and siteIDs where samples were collected. There are other endpoints which will return different information such as plot and observation. To learn more go to https://fits.geonet.org.nz/api-docs/."
   ]
  },
  {
   "cell_type": "markdown",
   "metadata": {},
   "source": [
    "###### Combine URL and endpoint"
   ]
  },
  {
   "cell_type": "code",
   "execution_count": 6,
   "metadata": {},
   "outputs": [],
   "source": [
    "url = base_url + endpoint"
   ]
  },
  {
   "cell_type": "markdown",
   "metadata": {},
   "source": [
    "Combine the base URL and the endpoint to give the information needed to request the data."
   ]
  },
  {
   "cell_type": "markdown",
   "metadata": {},
   "source": [
    "###### Set query parameters"
   ]
  },
  {
   "cell_type": "code",
   "execution_count": 7,
   "metadata": {},
   "outputs": [],
   "source": [
    "parameters ={\"within\": poly}"
   ]
  },
  {
   "cell_type": "markdown",
   "metadata": {},
   "source": [
    "###### Get site data"
   ]
  },
  {
   "cell_type": "code",
   "execution_count": 8,
   "metadata": {},
   "outputs": [],
   "source": [
    "sites = requests.get(url, params=parameters)"
   ]
  },
  {
   "cell_type": "markdown",
   "metadata": {},
   "source": [
    "We use `requests.get` to get the data using the URL we made earlier and the parameters we set in the last stage"
   ]
  },
  {
   "cell_type": "markdown",
   "metadata": {},
   "source": [
    "###### Read the json data"
   ]
  },
  {
   "cell_type": "code",
   "execution_count": 9,
   "metadata": {},
   "outputs": [],
   "source": [
    "data = sites.json()['features']"
   ]
  },
  {
   "cell_type": "markdown",
   "metadata": {},
   "source": [
    "This line of code reads the JSON(JavaScript Object Notation) data that is at the URL, so that Python can read it. "
   ]
  },
  {
   "cell_type": "markdown",
   "metadata": {},
   "source": [
    "###### Initialize this data frame"
   ]
  },
  {
   "cell_type": "code",
   "execution_count": 10,
   "metadata": {},
   "outputs": [],
   "source": [
    "ruapehu = pd.DataFrame() #empty dataframe"
   ]
  },
  {
   "cell_type": "markdown",
   "metadata": {},
   "source": [
    "We are now going to put this data into a data frame to make it easer for us to read. "
   ]
  },
  {
   "cell_type": "markdown",
   "metadata": {},
   "source": [
    "##### Why make the data into a data frame?"
   ]
  },
  {
   "cell_type": "markdown",
   "metadata": {},
   "source": [
    "A data frame is a way of formatting data into a table with column and row name much like a csv file and makes long list of data a lot easier to use.\n",
    "Data frame data can be called by column or row name making it easy to get the point(s) of data you want. Data, much like in a table, can be “linked”, so that you can do something like plot a data point on a 2D plot. Sadly, data frames are not a built-in data format in Python, so we must use the pandas (https://pandas.pydata.org/pandas-docs/stable/dsintro.html#dataframe) package to be able to make a data frame."
   ]
  },
  {
   "cell_type": "markdown",
   "metadata": {},
   "source": [
    "###### Add the site data to this data frame"
   ]
  },
  {
   "cell_type": "code",
   "execution_count": 11,
   "metadata": {},
   "outputs": [],
   "source": [
    "for i, val in enumerate(data):\n",
    "  geometry = val['geometry']\n",
    "  lon = geometry['coordinates'][0]\n",
    "  lat = geometry['coordinates'][1]\n",
    "  properties = val['properties']\n",
    "  siteID = properties['siteID']\n",
    "  height = properties['height']\n",
    "  name = properties['name']\n",
    "  #append these to df\n",
    "  ruapehu = ruapehu.append({'siteID': siteID, 'lon': lon, 'lat': lat, 'height': height, 'name': name}, ignore_index=True)"
   ]
  },
  {
   "cell_type": "markdown",
   "metadata": {},
   "source": [
    "Here, we extract the values for siteID, name, longitude and latitude. Then format it into a data frame. "
   ]
  },
  {
   "cell_type": "markdown",
   "metadata": {},
   "source": [
    "###### Print out this data frame"
   ]
  },
  {
   "cell_type": "code",
   "execution_count": 12,
   "metadata": {},
   "outputs": [
    {
     "data": {
      "text/html": [
       "<div>\n",
       "<style scoped>\n",
       "    .dataframe tbody tr th:only-of-type {\n",
       "        vertical-align: middle;\n",
       "    }\n",
       "\n",
       "    .dataframe tbody tr th {\n",
       "        vertical-align: top;\n",
       "    }\n",
       "\n",
       "    .dataframe thead th {\n",
       "        text-align: right;\n",
       "    }\n",
       "</style>\n",
       "<table border=\"1\" class=\"dataframe\">\n",
       "  <thead>\n",
       "    <tr style=\"text-align: right;\">\n",
       "      <th></th>\n",
       "      <th>height</th>\n",
       "      <th>lat</th>\n",
       "      <th>lon</th>\n",
       "      <th>name</th>\n",
       "      <th>siteID</th>\n",
       "    </tr>\n",
       "  </thead>\n",
       "  <tbody>\n",
       "    <tr>\n",
       "      <th>0</th>\n",
       "      <td>2529.000</td>\n",
       "      <td>-39.281281</td>\n",
       "      <td>175.564369</td>\n",
       "      <td>Ruapehu Crater Lake, Whole Lake</td>\n",
       "      <td>RU002</td>\n",
       "    </tr>\n",
       "    <tr>\n",
       "      <th>1</th>\n",
       "      <td>2529.000</td>\n",
       "      <td>-39.281281</td>\n",
       "      <td>175.564369</td>\n",
       "      <td>Ruapehu Volcano</td>\n",
       "      <td>RU000</td>\n",
       "    </tr>\n",
       "    <tr>\n",
       "      <th>2</th>\n",
       "      <td>2529.000</td>\n",
       "      <td>-39.281600</td>\n",
       "      <td>175.565000</td>\n",
       "      <td>Ruapehu Crater Lake Central Vent</td>\n",
       "      <td>RU003</td>\n",
       "    </tr>\n",
       "    <tr>\n",
       "      <th>3</th>\n",
       "      <td>1161.000</td>\n",
       "      <td>-39.199839</td>\n",
       "      <td>175.542240</td>\n",
       "      <td>Chateau Observatory</td>\n",
       "      <td>RU010</td>\n",
       "    </tr>\n",
       "    <tr>\n",
       "      <th>4</th>\n",
       "      <td>1230.000</td>\n",
       "      <td>-39.200689</td>\n",
       "      <td>175.604190</td>\n",
       "      <td>Tongariro, Lower Tama Lake</td>\n",
       "      <td>TO051</td>\n",
       "    </tr>\n",
       "    <tr>\n",
       "      <th>5</th>\n",
       "      <td>1280.000</td>\n",
       "      <td>-39.224927</td>\n",
       "      <td>175.527965</td>\n",
       "      <td>Ruapehu, Silica Rapids</td>\n",
       "      <td>RU020</td>\n",
       "    </tr>\n",
       "    <tr>\n",
       "      <th>6</th>\n",
       "      <td>2529.000</td>\n",
       "      <td>-39.283500</td>\n",
       "      <td>175.565400</td>\n",
       "      <td>Ruapehu Crater Lake Outlet</td>\n",
       "      <td>RU001A</td>\n",
       "    </tr>\n",
       "    <tr>\n",
       "      <th>7</th>\n",
       "      <td>2529.000</td>\n",
       "      <td>-39.283500</td>\n",
       "      <td>175.565400</td>\n",
       "      <td>Ruapehu Crater Lake Outlet</td>\n",
       "      <td>RU001</td>\n",
       "    </tr>\n",
       "    <tr>\n",
       "      <th>8</th>\n",
       "      <td>2691.957</td>\n",
       "      <td>-39.275275</td>\n",
       "      <td>175.563412</td>\n",
       "      <td>Dome</td>\n",
       "      <td>VGDR</td>\n",
       "    </tr>\n",
       "    <tr>\n",
       "      <th>9</th>\n",
       "      <td>2529.000</td>\n",
       "      <td>-39.279800</td>\n",
       "      <td>175.564900</td>\n",
       "      <td>Ruapehu Crater Lake North Vent</td>\n",
       "      <td>RU004</td>\n",
       "    </tr>\n",
       "    <tr>\n",
       "      <th>10</th>\n",
       "      <td>2049.505</td>\n",
       "      <td>-39.255000</td>\n",
       "      <td>175.552500</td>\n",
       "      <td>Far West</td>\n",
       "      <td>VGFW</td>\n",
       "    </tr>\n",
       "    <tr>\n",
       "      <th>11</th>\n",
       "      <td>2085.060</td>\n",
       "      <td>-39.298416</td>\n",
       "      <td>175.548312</td>\n",
       "      <td>Turoa</td>\n",
       "      <td>VGTR</td>\n",
       "    </tr>\n",
       "    <tr>\n",
       "      <th>12</th>\n",
       "      <td>1766.600</td>\n",
       "      <td>-39.277260</td>\n",
       "      <td>175.608943</td>\n",
       "      <td>Tukino Ski Field</td>\n",
       "      <td>VGTS</td>\n",
       "    </tr>\n",
       "    <tr>\n",
       "      <th>13</th>\n",
       "      <td>2088.156</td>\n",
       "      <td>-39.282405</td>\n",
       "      <td>175.588984</td>\n",
       "      <td>Whangaehu Hut</td>\n",
       "      <td>VGWH</td>\n",
       "    </tr>\n",
       "    <tr>\n",
       "      <th>14</th>\n",
       "      <td>1564.718</td>\n",
       "      <td>-39.326928</td>\n",
       "      <td>175.597857</td>\n",
       "      <td>Wahianoa</td>\n",
       "      <td>VGWN</td>\n",
       "    </tr>\n",
       "    <tr>\n",
       "      <th>15</th>\n",
       "      <td>1161.260</td>\n",
       "      <td>-39.199839</td>\n",
       "      <td>175.542240</td>\n",
       "      <td>Chateau Observatory</td>\n",
       "      <td>VGOB</td>\n",
       "    </tr>\n",
       "  </tbody>\n",
       "</table>\n",
       "</div>"
      ],
      "text/plain": [
       "      height        lat         lon                              name  siteID\n",
       "0   2529.000 -39.281281  175.564369   Ruapehu Crater Lake, Whole Lake   RU002\n",
       "1   2529.000 -39.281281  175.564369                   Ruapehu Volcano   RU000\n",
       "2   2529.000 -39.281600  175.565000  Ruapehu Crater Lake Central Vent   RU003\n",
       "3   1161.000 -39.199839  175.542240               Chateau Observatory   RU010\n",
       "4   1230.000 -39.200689  175.604190        Tongariro, Lower Tama Lake   TO051\n",
       "5   1280.000 -39.224927  175.527965            Ruapehu, Silica Rapids   RU020\n",
       "6   2529.000 -39.283500  175.565400        Ruapehu Crater Lake Outlet  RU001A\n",
       "7   2529.000 -39.283500  175.565400        Ruapehu Crater Lake Outlet   RU001\n",
       "8   2691.957 -39.275275  175.563412                              Dome    VGDR\n",
       "9   2529.000 -39.279800  175.564900    Ruapehu Crater Lake North Vent   RU004\n",
       "10  2049.505 -39.255000  175.552500                          Far West    VGFW\n",
       "11  2085.060 -39.298416  175.548312                             Turoa    VGTR\n",
       "12  1766.600 -39.277260  175.608943                  Tukino Ski Field    VGTS\n",
       "13  2088.156 -39.282405  175.588984                     Whangaehu Hut    VGWH\n",
       "14  1564.718 -39.326928  175.597857                          Wahianoa    VGWN\n",
       "15  1161.260 -39.199839  175.542240               Chateau Observatory    VGOB"
      ]
     },
     "execution_count": 12,
     "metadata": {},
     "output_type": "execute_result"
    }
   ],
   "source": [
    "ruapehu #will show dataframe"
   ]
  },
  {
   "cell_type": "markdown",
   "metadata": {},
   "source": [
    "Volcano sites are set up with site ID a set format. The first 2 letter are for the volcano eg. \"RU\" for Ruapehu. Then 3 number eg. \"RU002\" is the whole crater lake on Ruapehu. The site with other formatting are more likely to be GNSS sites."
   ]
  },
  {
   "cell_type": "markdown",
   "metadata": {},
   "source": [
    "###### Save site information"
   ]
  },
  {
   "cell_type": "code",
   "execution_count": 13,
   "metadata": {},
   "outputs": [],
   "source": [
    "ruapehu.to_csv(\"ruapehu_sites.csv\")"
   ]
  },
  {
   "cell_type": "markdown",
   "metadata": {},
   "source": [
    "This saves the data frame csv file with the same formatting as the data frame. It will have saved in the same place as this notebook is run from"
   ]
  },
  {
   "cell_type": "markdown",
   "metadata": {},
   "source": [
    "## &nbsp; 5. Define Functions"
   ]
  },
  {
   "cell_type": "markdown",
   "metadata": {},
   "source": [
    "When we want to run code many times it is best to write it as a function. A function is a block of code that can be called later in the code with just one line of code. A function should take a set number of inputs and return some output. In Python as long as a function is in the code, it dosen't matter is we put the function before or after we call it. "
   ]
  },
  {
   "cell_type": "markdown",
   "metadata": {},
   "source": [
    "###  &nbsp; 5.1 Get Volcano Data"
   ]
  },
  {
   "cell_type": "code",
   "execution_count": 14,
   "metadata": {},
   "outputs": [],
   "source": [
    "def get_volcano_data(site,typeID):\n",
    "    \"\"\"\n",
    "    This function takes a site ID and type ID as a strings\n",
    "    and returns a dataframe with all the observation of that type for that site\n",
    "    \"\"\"\n",
    "    #Setup\n",
    "    base_url = \"https://fits.geonet.org.nz/\"\n",
    "    endpoint = \"observation\"\n",
    "    url = base_url + endpoint\n",
    "    \n",
    "    #Set query parameters\n",
    "    parameters ={\"typeID\": typeID, \"siteID\": site}\n",
    "    \n",
    "    #Get data\n",
    "    request = requests.get(url, params=parameters)\n",
    "    \n",
    "    #Unpack data\n",
    "    data = (request.content)\n",
    "    \n",
    "    #If there are data points\n",
    "    if len(data) > 50:\n",
    "        #run volcano_dataframe on it\n",
    "        df = volcano_dataframe(data.decode(\"utf-8\"))\n",
    "        #print some info on it \n",
    "        print(site,\"has\", typeID, \"data and has\", len(df.index), \n",
    "              \"data points from \",df['date-time'][1],\" to \", df['date-time'][len(df.index)])\n",
    "        #retrun it\n",
    "        return df"
   ]
  },
  {
   "cell_type": "markdown",
   "metadata": {},
   "source": [
    "The function `get_volcano_data` takes a site ID and type ID and ruturns dataframe with all the observation if there is observation data, else it will just return `NONE`.This funtion uses the `volcano_dataframe` function. This works much the same as the function in the https://github.com/JenLowe/data_tutorials/blob/master/GNSS_Data/Python/Introduction_to_GNSS_data_using_FITS_in_Python.ipynb \n",
    "notebook to get GNSS data. More on how each line is working can be found in this notebook. \n",
    "If you are using Python2 remove the code `.decode(\"utf-8\")`"
   ]
  },
  {
   "cell_type": "code",
   "execution_count": 15,
   "metadata": {},
   "outputs": [],
   "source": [
    "def volcano_dataframe(data):\n",
    "    \"\"\"\n",
    "    This function turns the string of volcano data received by requests.get\n",
    "    into a data frame with volcano data correctly formatted.\n",
    "    \"\"\"\n",
    "    # splits data on the new line symbol\n",
    "    data = data.split(\"\\n\") \n",
    "    \n",
    "    # For each data point\n",
    "    for i in range(0, len(data)):\n",
    "        data[i]= data[i].split(\",\")# splits data ponits on the , symbol\n",
    "     \n",
    "    # For each data point \n",
    "    for i in range(1, (len(data)-1)):\n",
    "        data[i][0] = datetime.datetime.strptime(data[i][0], '%Y-%m-%dT%H:%M:%S.%fZ') #make 1st value into a datetime object\n",
    "        data[i][1] = float(data[i][1]) #makes 2nd value into a decimal number\n",
    "        data[i][2] = float(data[i][2]) #makes 3rd value into a decimal number\n",
    "        \n",
    "    #make the list into a data frame\n",
    "    df = pd.DataFrame(data[1:-1],index = range(1, (len(data)-1)), columns=data[0]) #make the list into a data frame\n",
    "    \n",
    "    #Return this data frame\n",
    "    return df "
   ]
  },
  {
   "cell_type": "markdown",
   "metadata": {},
   "source": [
    "The function `volcano_dataframe` takes a string of data and returns this reformated as a data frame."
   ]
  },
  {
   "cell_type": "markdown",
   "metadata": {},
   "source": [
    "### &nbsp; 5.2 Get Methods"
   ]
  },
  {
   "cell_type": "code",
   "execution_count": 16,
   "metadata": {},
   "outputs": [],
   "source": [
    "def get_method(typeID):\n",
    "    \"\"\"\n",
    "    This function takes a type ID as a strings\n",
    "    and returns all methods used for this type\n",
    "    \"\"\"\n",
    "    \n",
    "    #Setup\n",
    "    base_url = \"https://fits.geonet.org.nz/\"\n",
    "    endpoint = \"method\"\n",
    "    url = base_url + endpoint\n",
    "    \n",
    "    #Set query parameters\n",
    "    parameters ={\"typeID\": typeID}\n",
    "    \n",
    "    #Get data\n",
    "    request = requests.get(url, params=parameters)\n",
    "    \n",
    "    #Unpack data\n",
    "    data = request.json()['method']\n",
    "    \n",
    "    #run make_method_df on data\n",
    "    df =  make_method_df(data)\n",
    "    \n",
    "    return df"
   ]
  },
  {
   "cell_type": "markdown",
   "metadata": {},
   "source": [
    "The function `get_method` takes a type ID and returns all methods used for this type. This function use the function `make_method_df`. "
   ]
  },
  {
   "cell_type": "code",
   "execution_count": 17,
   "metadata": {},
   "outputs": [],
   "source": [
    "def make_method_df(data):\n",
    "    \"\"\"\n",
    "    This function takes method data as a list\n",
    "    and returns a dataframe with all the method data.\n",
    "    \"\"\"\n",
    "    #Initialize this data frame\n",
    "    df = pd.DataFrame()\n",
    "    \n",
    "    #add data to the data frame\n",
    "    for i, val in enumerate(data):\n",
    "        methodID = val['methodID']\n",
    "        name = val['name']\n",
    "        description = val['description']\n",
    "        reference = val['reference']\n",
    "        #append these to df\n",
    "        df = df.append({'name': name, 'methodID': methodID, 'description': description, 'reference':reference}, \n",
    "                       ignore_index=True)\n",
    "    \n",
    "    #Return this data frame\n",
    "    return df"
   ]
  },
  {
   "cell_type": "markdown",
   "metadata": {},
   "source": [
    "The function `make_method_df` makes a data frame from list data, like for the site data. It takes method data as a list and returns a dataframe with all the method data."
   ]
  },
  {
   "cell_type": "markdown",
   "metadata": {},
   "source": [
    "## &nbsp; 6. Temperature Example"
   ]
  },
  {
   "cell_type": "markdown",
   "metadata": {},
   "source": [
    "In this example we look at geting data about the temperature in the water of Ruapehu's Crater Lake. We look at geting all the data the GeoNet has then triming this data to look at only a set time. "
   ]
  },
  {
   "cell_type": "markdown",
   "metadata": {},
   "source": [
    "You can find a list of type ID at (https://github.com/GeoNet/data-tutorials/blob/master/Volcano_Data/typeIDs.csv, or at http://fits.geonet.org.nz/type (for best formatting use firefox) but most of the type ID are in the format (chemical analyte)-(g/w) where g is for gas and w is for water. e.g. Cl-w is for Chloride in water. "
   ]
  },
  {
   "cell_type": "markdown",
   "metadata": {},
   "source": [
    "###### Set the type to the type ID for temperature"
   ]
  },
  {
   "cell_type": "code",
   "execution_count": 18,
   "metadata": {},
   "outputs": [],
   "source": [
    "typeID = \"t\""
   ]
  },
  {
   "cell_type": "markdown",
   "metadata": {},
   "source": [
    "## &nbsp; 6.1 Get Methods used"
   ]
  },
  {
   "cell_type": "markdown",
   "metadata": {},
   "source": [
    "###### Get the methods for this type ID"
   ]
  },
  {
   "cell_type": "code",
   "execution_count": 19,
   "metadata": {},
   "outputs": [],
   "source": [
    "methods = get_method(typeID)"
   ]
  },
  {
   "cell_type": "markdown",
   "metadata": {},
   "source": [
    "The code above runs the `get_method` funtion."
   ]
  },
  {
   "cell_type": "markdown",
   "metadata": {},
   "source": [
    "###### Print method data"
   ]
  },
  {
   "cell_type": "code",
   "execution_count": 20,
   "metadata": {},
   "outputs": [
    {
     "data": {
      "text/html": [
       "<div>\n",
       "<style scoped>\n",
       "    .dataframe tbody tr th:only-of-type {\n",
       "        vertical-align: middle;\n",
       "    }\n",
       "\n",
       "    .dataframe tbody tr th {\n",
       "        vertical-align: top;\n",
       "    }\n",
       "\n",
       "    .dataframe thead th {\n",
       "        text-align: right;\n",
       "    }\n",
       "</style>\n",
       "<table border=\"1\" class=\"dataframe\">\n",
       "  <thead>\n",
       "    <tr style=\"text-align: right;\">\n",
       "      <th></th>\n",
       "      <th>description</th>\n",
       "      <th>methodID</th>\n",
       "      <th>name</th>\n",
       "      <th>reference</th>\n",
       "    </tr>\n",
       "  </thead>\n",
       "  <tbody>\n",
       "    <tr>\n",
       "      <th>0</th>\n",
       "      <td>mercury thermometer</td>\n",
       "      <td>therm</td>\n",
       "      <td>thermometer</td>\n",
       "      <td>http://en.wikipedia.org/wiki/Thermometer</td>\n",
       "    </tr>\n",
       "    <tr>\n",
       "      <th>1</th>\n",
       "      <td>thermocouple thermometer</td>\n",
       "      <td>thermcoup</td>\n",
       "      <td>thermocouple</td>\n",
       "      <td>http://en.wikipedia.org/wiki/Thermocouple</td>\n",
       "    </tr>\n",
       "    <tr>\n",
       "      <th>2</th>\n",
       "      <td>infrared thermometer</td>\n",
       "      <td>therminfra</td>\n",
       "      <td>therminfrared</td>\n",
       "      <td>http://en.wikipedia.org/wiki/Infrared_thermometer</td>\n",
       "    </tr>\n",
       "    <tr>\n",
       "      <th>3</th>\n",
       "      <td>FLIR camera</td>\n",
       "      <td>flir</td>\n",
       "      <td>thermflir</td>\n",
       "      <td>http://en.wikipedia.org/wiki/Forward_looking_i...</td>\n",
       "    </tr>\n",
       "    <tr>\n",
       "      <th>4</th>\n",
       "      <td>An instrument recording different types of atm...</td>\n",
       "      <td>weathersta</td>\n",
       "      <td>weather station</td>\n",
       "      <td>https://en.wikipedia.org.nz/wiki/Weather_station</td>\n",
       "    </tr>\n",
       "    <tr>\n",
       "      <th>5</th>\n",
       "      <td>an integrated circuit temperature sensor, ofte...</td>\n",
       "      <td>logic</td>\n",
       "      <td>integrated circuit and data logger</td>\n",
       "      <td>http://www.ti.com/product/LM35</td>\n",
       "    </tr>\n",
       "    <tr>\n",
       "      <th>6</th>\n",
       "      <td>a thermocouple, recorded by a data logger</td>\n",
       "      <td>logthermcoup</td>\n",
       "      <td>thermocouple and data logger</td>\n",
       "      <td>https://en.wikipedia.org/wiki/Thermocouple</td>\n",
       "    </tr>\n",
       "    <tr>\n",
       "      <th>7</th>\n",
       "      <td>a platinum resistance thermometer, recorded by...</td>\n",
       "      <td>logprt</td>\n",
       "      <td>platinum resistance thermometer and data logger</td>\n",
       "      <td>https://en.wikipedia.org/wiki/Resistance_therm...</td>\n",
       "    </tr>\n",
       "    <tr>\n",
       "      <th>8</th>\n",
       "      <td>processed thermal image from a satellite</td>\n",
       "      <td>sattherm</td>\n",
       "      <td>satellite thermal imagery</td>\n",
       "      <td>https://en.wikipedia.org/wiki/Satellite_imagery</td>\n",
       "    </tr>\n",
       "  </tbody>\n",
       "</table>\n",
       "</div>"
      ],
      "text/plain": [
       "                                         description      methodID  \\\n",
       "0                                mercury thermometer         therm   \n",
       "1                           thermocouple thermometer     thermcoup   \n",
       "2                               infrared thermometer    therminfra   \n",
       "3                                        FLIR camera          flir   \n",
       "4  An instrument recording different types of atm...    weathersta   \n",
       "5  an integrated circuit temperature sensor, ofte...         logic   \n",
       "6          a thermocouple, recorded by a data logger  logthermcoup   \n",
       "7  a platinum resistance thermometer, recorded by...        logprt   \n",
       "8           processed thermal image from a satellite      sattherm   \n",
       "\n",
       "                                              name  \\\n",
       "0                                      thermometer   \n",
       "1                                     thermocouple   \n",
       "2                                    therminfrared   \n",
       "3                                        thermflir   \n",
       "4                                  weather station   \n",
       "5               integrated circuit and data logger   \n",
       "6                     thermocouple and data logger   \n",
       "7  platinum resistance thermometer and data logger   \n",
       "8                        satellite thermal imagery   \n",
       "\n",
       "                                           reference  \n",
       "0           http://en.wikipedia.org/wiki/Thermometer  \n",
       "1          http://en.wikipedia.org/wiki/Thermocouple  \n",
       "2  http://en.wikipedia.org/wiki/Infrared_thermometer  \n",
       "3  http://en.wikipedia.org/wiki/Forward_looking_i...  \n",
       "4   https://en.wikipedia.org.nz/wiki/Weather_station  \n",
       "5                     http://www.ti.com/product/LM35  \n",
       "6         https://en.wikipedia.org/wiki/Thermocouple  \n",
       "7  https://en.wikipedia.org/wiki/Resistance_therm...  \n",
       "8    https://en.wikipedia.org/wiki/Satellite_imagery  "
      ]
     },
     "execution_count": 20,
     "metadata": {},
     "output_type": "execute_result"
    }
   ],
   "source": [
    "methods # Show the dataframe "
   ]
  },
  {
   "cell_type": "markdown",
   "metadata": {},
   "source": [
    "## &nbsp; 6.2 Get observation data\n"
   ]
  },
  {
   "cell_type": "markdown",
   "metadata": {},
   "source": [
    "Now, we are going to get all temperature data from all these sites, and put it in a single data structure"
   ]
  },
  {
   "cell_type": "markdown",
   "metadata": {},
   "source": [
    "###### Get all temperature data from all these sites"
   ]
  },
  {
   "cell_type": "code",
   "execution_count": 21,
   "metadata": {},
   "outputs": [
    {
     "name": "stdout",
     "output_type": "stream",
     "text": [
      "RU002 has t data and has 27 data points from  2007-09-03 00:00:00  to  2009-07-13 00:00:00\n",
      "RU003 has t data and has 166 data points from  1998-03-17 00:00:00  to  2018-12-18 00:00:00\n",
      "RU010 has t data and has 193013 data points from  2007-05-21 00:45:00  to  2016-05-30 11:00:00\n",
      "TO051 has t data and has 22 data points from  1994-03-30 00:00:00  to  2018-05-10 00:00:00\n",
      "RU020 has t data and has 22 data points from  1990-03-18 00:15:00  to  2018-05-30 00:00:00\n",
      "RU001A has t data and has 18283 data points from  2016-03-04 03:15:00  to  2018-12-19 15:45:00\n",
      "RU001 has t data and has 96233 data points from  1950-03-01 00:00:00  to  2019-02-04 16:45:00\n",
      "RU004 has t data and has 66 data points from  1991-01-13 00:00:00  to  2018-12-18 00:00:00\n"
     ]
    }
   ],
   "source": [
    "#Initialize a list to put the data in later\n",
    "t={}\n",
    "#loop over each site ID\n",
    "for i, site in enumerate(ruapehu[\"siteID\"]):\n",
    "    #use the get_volcano_data funtion to get the data and save it with the key of the site's ID\n",
    "    t.update({site:get_volcano_data(site,typeID)})"
   ]
  },
  {
   "cell_type": "markdown",
   "metadata": {},
   "source": [
    "The above code loops over the siteIDs and and runs `get_volcano_data`, so that if it there is data for that site then it is saves into `t` with the \"key\" as the siteID "
   ]
  },
  {
   "cell_type": "markdown",
   "metadata": {},
   "source": [
    "Note that have made a dictionary with keys of siteIDs which are linked to the data frames with the data from this siteID. "
   ]
  },
  {
   "cell_type": "markdown",
   "metadata": {},
   "source": [
    "RU001 is the site ID for Ruapehu crater lake outlet so lets look more at this site"
   ]
  },
  {
   "cell_type": "markdown",
   "metadata": {},
   "source": [
    "###### Print the first few lines of the data frame"
   ]
  },
  {
   "cell_type": "code",
   "execution_count": 22,
   "metadata": {},
   "outputs": [
    {
     "data": {
      "text/html": [
       "<div>\n",
       "<style scoped>\n",
       "    .dataframe tbody tr th:only-of-type {\n",
       "        vertical-align: middle;\n",
       "    }\n",
       "\n",
       "    .dataframe tbody tr th {\n",
       "        vertical-align: top;\n",
       "    }\n",
       "\n",
       "    .dataframe thead th {\n",
       "        text-align: right;\n",
       "    }\n",
       "</style>\n",
       "<table border=\"1\" class=\"dataframe\">\n",
       "  <thead>\n",
       "    <tr style=\"text-align: right;\">\n",
       "      <th></th>\n",
       "      <th>date-time</th>\n",
       "      <th>t (C)</th>\n",
       "      <th>error (C)</th>\n",
       "    </tr>\n",
       "  </thead>\n",
       "  <tbody>\n",
       "    <tr>\n",
       "      <th>1</th>\n",
       "      <td>1950-03-01</td>\n",
       "      <td>24.4</td>\n",
       "      <td>0.5</td>\n",
       "    </tr>\n",
       "    <tr>\n",
       "      <th>2</th>\n",
       "      <td>1954-02-14</td>\n",
       "      <td>22.3</td>\n",
       "      <td>0.5</td>\n",
       "    </tr>\n",
       "    <tr>\n",
       "      <th>3</th>\n",
       "      <td>1954-02-17</td>\n",
       "      <td>21.1</td>\n",
       "      <td>0.5</td>\n",
       "    </tr>\n",
       "    <tr>\n",
       "      <th>4</th>\n",
       "      <td>1954-10-22</td>\n",
       "      <td>38.0</td>\n",
       "      <td>0.5</td>\n",
       "    </tr>\n",
       "    <tr>\n",
       "      <th>5</th>\n",
       "      <td>1955-12-30</td>\n",
       "      <td>25.0</td>\n",
       "      <td>0.5</td>\n",
       "    </tr>\n",
       "  </tbody>\n",
       "</table>\n",
       "</div>"
      ],
      "text/plain": [
       "   date-time   t (C)   error (C)\n",
       "1 1950-03-01    24.4         0.5\n",
       "2 1954-02-14    22.3         0.5\n",
       "3 1954-02-17    21.1         0.5\n",
       "4 1954-10-22    38.0         0.5\n",
       "5 1955-12-30    25.0         0.5"
      ]
     },
     "execution_count": 22,
     "metadata": {},
     "output_type": "execute_result"
    }
   ],
   "source": [
    "t['RU001'].head()"
   ]
  },
  {
   "cell_type": "markdown",
   "metadata": {},
   "source": [
    "`t[RU001]` is use to access the temperature data frame for the site with the siteID RU001. "
   ]
  },
  {
   "cell_type": "markdown",
   "metadata": {},
   "source": [
    "## &nbsp; 6.3 Plot data"
   ]
  },
  {
   "cell_type": "code",
   "execution_count": 23,
   "metadata": {},
   "outputs": [
    {
     "data": {
      "image/png": "[encoded data removed]",
      "text/plain": [
       "<Figure size 432x288 with 1 Axes>"
      ]
     },
     "metadata": {
      "needs_background": "light"
     },
     "output_type": "display_data"
    }
   ],
   "source": [
    "plot = t['RU001'].plot(x='date-time', y= ' t (C)', marker='o', title = 'Temperature of Ruapehu Crater Lake Outlet')\n",
    "#plt.savefig(\"plot\") "
   ]
  },
  {
   "cell_type": "markdown",
   "metadata": {},
   "source": [
    "The above code plots time on the x axis and the temperature on the y axis. `marker = ‘o’` makes each point of data a small circle. If you want to save the plot as a png file in the folder you are running this code from you can uncomment ` plt.savefig(\"plot\")`"
   ]
  },
  {
   "cell_type": "markdown",
   "metadata": {},
   "source": [
    "## &nbsp; 6.4 Trim data"
   ]
  },
  {
   "cell_type": "markdown",
   "metadata": {},
   "source": [
    "The data for the Ruapehu crater lake outlet has data all the way back to the 1950s, but I want to look at the data in just one part of this time"
   ]
  },
  {
   "cell_type": "markdown",
   "metadata": {},
   "source": [
    "###### Set times you want to look at"
   ]
  },
  {
   "cell_type": "code",
   "execution_count": 24,
   "metadata": {},
   "outputs": [],
   "source": [
    "start = datetime.datetime(2017, 1, 1)\n",
    "end = datetime.datetime(2019, 1, 1)"
   ]
  },
  {
   "cell_type": "markdown",
   "metadata": {},
   "source": [
    "Dates are in the order year, month, day"
   ]
  },
  {
   "cell_type": "markdown",
   "metadata": {},
   "source": [
    "###### Trim the data"
   ]
  },
  {
   "cell_type": "code",
   "execution_count": 25,
   "metadata": {},
   "outputs": [],
   "source": [
    "df = t['RU001'].loc[t['RU001']['date-time']<end]\n",
    "df = df.loc[t['RU001']['date-time']>start]"
   ]
  },
  {
   "cell_type": "markdown",
   "metadata": {},
   "source": [
    "`t['RU001']['date-time']<end` makes a list saying what rows have date that is before the end date set above. `loc` then say to keep only the points for \"RU001\" that are before the end date. This is then saved as dataframe. \n",
    "The next line of code does the same but for time after the start date. "
   ]
  },
  {
   "cell_type": "markdown",
   "metadata": {},
   "source": [
    "###### Plot trimed data"
   ]
  },
  {
   "cell_type": "code",
   "execution_count": 26,
   "metadata": {},
   "outputs": [
    {
     "data": {
      "image/png": "[encoded data removed]",
      "text/plain": [
       "<Figure size 432x288 with 1 Axes>"
      ]
     },
     "metadata": {
      "needs_background": "light"
     },
     "output_type": "display_data"
    }
   ],
   "source": [
    "plot2 = df.plot(x='date-time', y= ' t (C)', title = 'Temperature of Ruapehu Crater Lake Outlet 2017 and 2018')"
   ]
  },
  {
   "cell_type": "markdown",
   "metadata": {},
   "source": [
    "Done as plot above. "
   ]
  },
  {
   "cell_type": "markdown",
   "metadata": {},
   "source": [
    "## &nbsp; 6.5 Save data"
   ]
  },
  {
   "cell_type": "markdown",
   "metadata": {},
   "source": [
    "###### Save as CSV file"
   ]
  },
  {
   "cell_type": "code",
   "execution_count": 27,
   "metadata": {},
   "outputs": [],
   "source": [
    "t['RU001'].to_csv(\"RU001_temp_in_ruapehu.csv\")"
   ]
  },
  {
   "cell_type": "markdown",
   "metadata": {},
   "source": [
    "This saves the data frame csv file with the same formatting as the data frame. It will have saved in the same place as this notebook is run from and be named `RU001_temp_in_ruapehu`"
   ]
  },
  {
   "cell_type": "markdown",
   "metadata": {},
   "source": [
    "## Useful links"
   ]
  },
  {
   "cell_type": "markdown",
   "metadata": {},
   "source": [
    "<ul>\n",
    "    <li>This notebook uses Python https://www.python.org/\n",
    "    <li>This notebook also uses pandas https://pandas.pydata.org/\n",
    "    <li>There is a notebook on this data set in R at https://github.com/GeoNet/data-tutorials/blob/master/Volcano_Data/R/Volcano_Chemistry_data_using_FITS_in_R\n",
    "    <li>More tutorials on volcano data can be found at https://github.com/GeoNet/data-tutorials/blob/master/Volcano_Data     \n",
    "    <li>For more on data types in FITS go to http://fits.geonet.org.nz/type (for best formatting use firefox)\n",
    "    <li>For more on FITS go to https://fits.geonet.org.nz/api-docs/   \n",
    "</ul>"
   ]
  }
 ],
 "metadata": {
  "kernelspec": {
   "display_name": "Python 3",
   "language": "python",
   "name": "python3"
  },
  "language_info": {
   "codemirror_mode": {
    "name": "ipython",
    "version": 3
   },
   "file_extension": ".py",
   "mimetype": "text/x-python",
   "name": "python",
   "nbconvert_exporter": "python",
   "pygments_lexer": "ipython3",
   "version": "3.7.1"
  }
 },
 "nbformat": 4,
 "nbformat_minor": 2
}
