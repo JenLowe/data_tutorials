{
 "cells": [
  {
   "cell_type": "markdown",
   "metadata": {},
   "source": [
    "# <center>Introduction on Using R to access GeoNet's Volcano Chemistry data"
   ]
  },
  {
   "cell_type": "markdown",
   "metadata": {},
   "source": [
    "In this notebook we look at getting volcano chemistry data from a set area. This notebook has the functions needed to get data as well as some examples of how to use them. By the end of this tutorial you should be able to make a table like the one below for a set area <img src=\"sites.png\">\n",
    "Then be able to be data from both multiple sites <img src=\"Cl_data.png\">\n",
    "and when multiple methods are used.<img src=\"SO2flux.png\">\n"
   ]
  },
  {
   "cell_type": "markdown",
   "metadata": {},
   "source": [
    "## &nbsp; Table of contents"
   ]
  },
  {
   "cell_type": "markdown",
   "metadata": {},
   "source": [
    "### 1. Introduction\n",
    "### 2. Set Up \n",
    "### 3. Define Area of Interest\n",
    "### 4. Get Site Data\n",
    "### 5. Define Functions\n",
    "#### &nbsp; 5.1 Get Volcano Data\n",
    "#### &nbsp; 5.2 Get Methods Used\n",
    "#### &nbsp; 5.3 Get Volcano Data with Method\n",
    "### 6. Chlorine Example\n",
    "#### &nbsp; 6.1 Get Cl Data for Ruapehu\n",
    "#### &nbsp; 6.2 Save Cl Data for Ruapehu\n",
    "#### &nbsp; 6.3 Trim Cl Data for Ruapehu\n",
    "### 7. Sulphur Dioxide Flux Example\n",
    "#### &nbsp; 7.1 Get SO2 Flux Data for Ruapehu\n",
    "#### &nbsp; 7.2 Get Methods Used for SO2 Flux for Ruapehu\n",
    "#### &nbsp; 7.3 Get SO2 Flux Data with methods for Ruapehu\n",
    "#### &nbsp; 7.4 Plot SO2 Flux with Methods"
   ]
  },
  {
   "cell_type": "markdown",
   "metadata": {},
   "source": [
    "## &nbsp; 1. Introduction"
   ]
  },
  {
   "cell_type": "markdown",
   "metadata": {},
   "source": [
    "In this tutorial we will be learning how to use R to access GeoNet's Volcano data. GeoNet has a API (Application Programming Interface) to access Volcano data. You do not need to know anything about APIs to use this tutorial but if you would like more info see https://fits.geonet.org.nz/api-docs/."
   ]
  },
  {
   "cell_type": "markdown",
   "metadata": {},
   "source": [
    "R is a language made for statisticians by statisticians. It is an open source language which anyone can make a package for. This means that R has a lot of useful functions for all kinds of research."
   ]
  },
  {
   "cell_type": "markdown",
   "metadata": {},
   "source": [
    "This tutorial assumes that you have basic knowledge of the language R, but basic knowledge of any programming language should be sufficient to follow this tutorial."
   ]
  },
  {
   "cell_type": "markdown",
   "metadata": {},
   "source": [
    "All data will be saved into R as a data frame which is much like, what would be called, a dictionary in other languages, but with a few more restrictions to the data structure. To understand more about data frames go to https://www.rdocumentation.org/packages/base/versions/3.5.1/topics/data.frame"
   ]
  },
  {
   "cell_type": "markdown",
   "metadata": {},
   "source": [
    "We will also be using the packages geojsonR (https://cran.r-project.org/web/packages/geojsonR/geojsonR.pdf )"
   ]
  },
  {
   "cell_type": "markdown",
   "metadata": {},
   "source": [
    "###### About GeoNet Volcano Chemistry data"
   ]
  },
  {
   "cell_type": "markdown",
   "metadata": {},
   "source": [
    "GeoNet uses many methods to monitor volcanic activity in and around NZ. One of the methods they use is to take gas and water samples. <br>\n",
    "This chemistry data, dating back to the 1950’s, can be accessed using GeoNet’s API. \n",
    "The types of data and frequency of collection changes from site to site, but a full list of all types of data collected can be found at (git hub link), or at http://fits.geonet.org.nz/type (for best formatting use firefox)"
   ]
  },
  {
   "cell_type": "markdown",
   "metadata": {},
   "source": [
    "For an overview on how GeoNet monitors volcanic activity go to https://www.geonet.org.nz/volcano/how"
   ]
  },
  {
   "cell_type": "markdown",
   "metadata": {},
   "source": [
    "## &nbsp; 2. Set Up "
   ]
  },
  {
   "cell_type": "markdown",
   "metadata": {},
   "source": [
    "###### Install Packages"
   ]
  },
  {
   "cell_type": "code",
   "execution_count": null,
   "metadata": {},
   "outputs": [],
   "source": [
    "install.packages(\"geojsonR\")"
   ]
  },
  {
   "cell_type": "markdown",
   "metadata": {},
   "source": [
    "Note this code might take some time to run but you only need to run this ONCE.\n"
   ]
  },
  {
   "cell_type": "markdown",
   "metadata": {},
   "source": [
    "###### Call libraries"
   ]
  },
  {
   "cell_type": "code",
   "execution_count": 2,
   "metadata": {},
   "outputs": [],
   "source": [
    "library(httr)\n",
    "library(geojsonR)"
   ]
  },
  {
   "cell_type": "markdown",
   "metadata": {},
   "source": [
    "The library httr (https://cran.r-project.org/web/packages/httr/vignettes/quickstart.html) is a base package of R and will not need to be imported. To find out more about geojsonR go to(https://cran.r-project.org/web/packages/geojsonR/geojsonR.pdf )"
   ]
  },
  {
   "cell_type": "markdown",
   "metadata": {},
   "source": [
    "## &nbsp; 3. Define Area of Interest"
   ]
  },
  {
   "cell_type": "markdown",
   "metadata": {},
   "source": [
    "You can define you area of interest in the shape of any polygon. In this example we will be looking at a square as our polygon. "
   ]
  },
  {
   "cell_type": "markdown",
   "metadata": {},
   "source": [
    "###### Define the longitude and latitude of the point of interest"
   ]
  },
  {
   "cell_type": "code",
   "execution_count": 3,
   "metadata": {},
   "outputs": [],
   "source": [
    "point_long <- 175.565\n",
    "point_lat <- -39.281\n",
    "maxradius <- 0.1"
   ]
  },
  {
   "cell_type": "markdown",
   "metadata": {},
   "source": [
    "Define the longitude and latitude of the point of interest as well as how far out from that point you want to look (`maxradius`) in . e.g Here the point of insterset is Ruapehu and we have made a small box as to not get Tongariro in this box"
   ]
  },
  {
   "cell_type": "markdown",
   "metadata": {},
   "source": [
    "###### Set parameters for area of interest."
   ]
  },
  {
   "cell_type": "code",
   "execution_count": 4,
   "metadata": {},
   "outputs": [],
   "source": [
    "long_max<- point_long + maxradius\n",
    "long_min<- point_long - maxradius\n",
    "lat_max <- point_lat - maxradius\n",
    "lat_min <- point_lat + maxradius"
   ]
  },
  {
   "cell_type": "markdown",
   "metadata": {},
   "source": [
    "This set the 4 edge points of the box we will look for GNSS sites in."
   ]
  },
  {
   "cell_type": "markdown",
   "metadata": {},
   "source": [
    "###### Make box"
   ]
  },
  {
   "cell_type": "code",
   "execution_count": 5,
   "metadata": {},
   "outputs": [],
   "source": [
    "ploy <- paste(long_max,\"+\",lat_max\n",
    "              ,\",\",long_max,\"+\",lat_min\n",
    "              ,\",\",long_min,\"+\",lat_min\n",
    "              ,\",\",long_min,\"+\",lat_max\n",
    "              ,\",\",long_max,\"+\",lat_max, sep=\"\")"
   ]
  },
  {
   "cell_type": "markdown",
   "metadata": {},
   "source": [
    "Here we use the points worked out before to make a box that is formatted in the right way to put into our URL later"
   ]
  },
  {
   "cell_type": "markdown",
   "metadata": {},
   "source": [
    "## &nbsp; 4. Get Site Data"
   ]
  },
  {
   "cell_type": "markdown",
   "metadata": {},
   "source": [
    "###### Set URL"
   ]
  },
  {
   "cell_type": "code",
   "execution_count": 6,
   "metadata": {},
   "outputs": [],
   "source": [
    "base_url <- \"http://fits.geonet.org.nz/\"\n",
    "endpoint <- \"site\""
   ]
  },
  {
   "cell_type": "markdown",
   "metadata": {},
   "source": [
    "The base URL should be set as above, and the endpoint is set to site to get the site data. There are other endpoints which will return different information such as plot and observation. To learn more go to https://fits.geonet.org.nz/api-docs/."
   ]
  },
  {
   "cell_type": "markdown",
   "metadata": {},
   "source": [
    "###### Combine information to get full URL"
   ]
  },
  {
   "cell_type": "code",
   "execution_count": 7,
   "metadata": {},
   "outputs": [],
   "source": [
    "full_url <- paste(base_url,endpoint,\"?within=POLYGON((\", ploy, \"))\", sep=\"\")"
   ]
  },
  {
   "cell_type": "code",
   "execution_count": 8,
   "metadata": {},
   "outputs": [
    {
     "data": {
      "text/html": [
       "'http://fits.geonet.org.nz/site?within=POLYGON((175.665+-39.381,175.665+-39.181,175.465+-39.181,175.465+-39.381,175.665+-39.381))'"
      ],
      "text/latex": [
       "'http://fits.geonet.org.nz/site?within=POLYGON((175.665+-39.381,175.665+-39.181,175.465+-39.181,175.465+-39.381,175.665+-39.381))'"
      ],
      "text/markdown": [
       "'http://fits.geonet.org.nz/site?within=POLYGON((175.665+-39.381,175.665+-39.181,175.465+-39.181,175.465+-39.381,175.665+-39.381))'"
      ],
      "text/plain": [
       "[1] \"http://fits.geonet.org.nz/site?within=POLYGON((175.665+-39.381,175.665+-39.181,175.465+-39.181,175.465+-39.381,175.665+-39.381))\""
      ]
     },
     "metadata": {},
     "output_type": "display_data"
    }
   ],
   "source": [
    "full_url"
   ]
  },
  {
   "cell_type": "markdown",
   "metadata": {},
   "source": [
    "Combine the information to make the full URL. sep=\"\" make sure there is no space between each piece of information. In this case you get the URL 'http://fits.geonet.org.nz/site?within=POLYGON((175.665+-39.381,175.665+-39.181,175.465+-39.181,175.465+-39.381,175.665+-39.381)) "
   ]
  },
  {
   "cell_type": "markdown",
   "metadata": {},
   "source": [
    "###### Get sites"
   ]
  },
  {
   "cell_type": "code",
   "execution_count": 9,
   "metadata": {},
   "outputs": [],
   "source": [
    "allsites <- FROM_GeoJson(full_url)[[1]]"
   ]
  },
  {
   "cell_type": "markdown",
   "metadata": {},
   "source": [
    "Use `FROM_GeoJson` to get all the sites using the above URL. `[[1]]` is saying only look at the 1st row of data and is needed becuase all data is in the 1st row with this row saying that it is site data. `FROM_GeoJson` will also translate the data into a datafram as the the data at the URL is in a format called JSON(JavaScript Object Notation) or more specifically GeoJSON(Geographical JavaScript Object Notation) http://geojson.org/"
   ]
  },
  {
   "cell_type": "markdown",
   "metadata": {},
   "source": [
    "###### See the number of sites"
   ]
  },
  {
   "cell_type": "code",
   "execution_count": 10,
   "metadata": {},
   "outputs": [
    {
     "data": {
      "text/html": [
       "'There are 16 sites in the the box of interest'"
      ],
      "text/latex": [
       "'There are 16 sites in the the box of interest'"
      ],
      "text/markdown": [
       "'There are 16 sites in the the box of interest'"
      ],
      "text/plain": [
       "[1] \"There are 16 sites in the the box of interest\""
      ]
     },
     "metadata": {},
     "output_type": "display_data"
    }
   ],
   "source": [
    "paste(\"There are\" , length(allsites), \"sites in the the box of interest\")"
   ]
  },
  {
   "cell_type": "markdown",
   "metadata": {},
   "source": [
    "We only want to know the site ID, name and longitude and latitude of each site so I will make a new data frame will only this information in it."
   ]
  },
  {
   "cell_type": "markdown",
   "metadata": {},
   "source": [
    "###### Initialize this data frame"
   ]
  },
  {
   "cell_type": "code",
   "execution_count": 11,
   "metadata": {},
   "outputs": [],
   "source": [
    "ruapehu <- data.frame(\"siteID\"= allsites[[1]]$properties$siteID,\n",
    "                      \n",
    "                \"longitude\" =allsites[[1]]$geometry$coordinate[1], \n",
    "                \"latitude\" =allsites[[1]]$geometry$coordinate[2],    \n",
    "                \"hight\" = allsites[[1]]$properties$height,\n",
    "                      \n",
    "                \"name\"= allsites[[1]]$properties$name)"
   ]
  },
  {
   "cell_type": "markdown",
   "metadata": {},
   "source": [
    "Take the first `[[1]]` data point and extract the values for siteID, longitude and latitude. Then format this into a data frame"
   ]
  },
  {
   "cell_type": "markdown",
   "metadata": {},
   "source": [
    "###### Complete this data frame"
   ]
  },
  {
   "cell_type": "code",
   "execution_count": 12,
   "metadata": {},
   "outputs": [],
   "source": [
    "for (i in 2:length(allsites)){\n",
    "    \n",
    "    temp <- data.frame(\"siteID\"=allsites[[i]]$properties$siteID, \n",
    "                       \n",
    "                      \"longitude\" =allsites[[i]]$geometry$coordinate[1], \n",
    "                      \"latitude\" =allsites[[i]]$geometry$coordinate[2],\n",
    "                       \"hight\" = allsites[[i]]$properties$height,\n",
    "                       \n",
    "                      \"name\"= allsites[[i]]$properties$name)\n",
    "    \n",
    "    ruapehu <- rbind(ruapehu, temp)\n",
    "}"
   ]
  },
  {
   "cell_type": "markdown",
   "metadata": {},
   "source": [
    "Do what was done for the first data point for each data point adding it to the data frame with `rbind`."
   ]
  },
  {
   "cell_type": "markdown",
   "metadata": {},
   "source": [
    "###### Print out this data frame"
   ]
  },
  {
   "cell_type": "code",
   "execution_count": 13,
   "metadata": {},
   "outputs": [
    {
     "data": {
      "text/html": [
       "<table>\n",
       "<thead><tr><th scope=col>siteID</th><th scope=col>longitude</th><th scope=col>latitude</th><th scope=col>hight</th><th scope=col>name</th></tr></thead>\n",
       "<tbody>\n",
       "\t<tr><td>RU002                           </td><td>175.5644                        </td><td>-39.28128                       </td><td>2529.000                        </td><td>Ruapehu Crater Lake, Whole Lake </td></tr>\n",
       "\t<tr><td>VGDR                            </td><td>175.5634                        </td><td>-39.27527                       </td><td>2691.957                        </td><td>Dome                            </td></tr>\n",
       "\t<tr><td>RU001                           </td><td>175.5654                        </td><td>-39.28350                       </td><td>2529.000                        </td><td>Ruapehu Crater Lake Outlet      </td></tr>\n",
       "\t<tr><td>RU000                           </td><td>175.5644                        </td><td>-39.28128                       </td><td>2529.000                        </td><td>Ruapehu Volcano                 </td></tr>\n",
       "\t<tr><td>RU003                           </td><td>175.5650                        </td><td>-39.28160                       </td><td>2529.000                        </td><td>Ruapehu Crater Lake Central Vent</td></tr>\n",
       "\t<tr><td>RU010                           </td><td>175.5422                        </td><td>-39.19984                       </td><td>1161.000                        </td><td>Chateau Observatory             </td></tr>\n",
       "\t<tr><td>TO051                           </td><td>175.6042                        </td><td>-39.20069                       </td><td>1230.000                        </td><td>Tongariro, Lower Tama Lake      </td></tr>\n",
       "\t<tr><td>RU020                           </td><td>175.5280                        </td><td>-39.22493                       </td><td>1280.000                        </td><td>Ruapehu, Silica Rapids          </td></tr>\n",
       "\t<tr><td>RU001A                          </td><td>175.5654                        </td><td>-39.28350                       </td><td>2529.000                        </td><td>Ruapehu Crater Lake Outlet      </td></tr>\n",
       "\t<tr><td>RU004                           </td><td>175.5649                        </td><td>-39.27980                       </td><td>2529.000                        </td><td>Ruapehu Crater Lake North Vent  </td></tr>\n",
       "\t<tr><td>VGFW                            </td><td>175.5525                        </td><td>-39.25500                       </td><td>2049.505                        </td><td>Far West                        </td></tr>\n",
       "\t<tr><td>VGTR                            </td><td>175.5483                        </td><td>-39.29842                       </td><td>2085.060                        </td><td>Turoa                           </td></tr>\n",
       "\t<tr><td>VGTS                            </td><td>175.6089                        </td><td>-39.27726                       </td><td>1766.600                        </td><td>Tukino Ski Field                </td></tr>\n",
       "\t<tr><td>VGWH                            </td><td>175.5890                        </td><td>-39.28241                       </td><td>2088.156                        </td><td>Whangaehu Hut                   </td></tr>\n",
       "\t<tr><td>VGWN                            </td><td>175.5979                        </td><td>-39.32693                       </td><td>1564.718                        </td><td>Wahianoa                        </td></tr>\n",
       "\t<tr><td>VGOB                            </td><td>175.5422                        </td><td>-39.19984                       </td><td>1161.260                        </td><td>Chateau Observatory             </td></tr>\n",
       "</tbody>\n",
       "</table>\n"
      ],
      "text/latex": [
       "\\begin{tabular}{r|lllll}\n",
       " siteID & longitude & latitude & hight & name\\\\\n",
       "\\hline\n",
       "\t RU002                            & 175.5644                         & -39.28128                        & 2529.000                         & Ruapehu Crater Lake, Whole Lake \\\\\n",
       "\t VGDR                             & 175.5634                         & -39.27527                        & 2691.957                         & Dome                            \\\\\n",
       "\t RU001                            & 175.5654                         & -39.28350                        & 2529.000                         & Ruapehu Crater Lake Outlet      \\\\\n",
       "\t RU000                            & 175.5644                         & -39.28128                        & 2529.000                         & Ruapehu Volcano                 \\\\\n",
       "\t RU003                            & 175.5650                         & -39.28160                        & 2529.000                         & Ruapehu Crater Lake Central Vent\\\\\n",
       "\t RU010                            & 175.5422                         & -39.19984                        & 1161.000                         & Chateau Observatory             \\\\\n",
       "\t TO051                            & 175.6042                         & -39.20069                        & 1230.000                         & Tongariro, Lower Tama Lake      \\\\\n",
       "\t RU020                            & 175.5280                         & -39.22493                        & 1280.000                         & Ruapehu, Silica Rapids          \\\\\n",
       "\t RU001A                           & 175.5654                         & -39.28350                        & 2529.000                         & Ruapehu Crater Lake Outlet      \\\\\n",
       "\t RU004                            & 175.5649                         & -39.27980                        & 2529.000                         & Ruapehu Crater Lake North Vent  \\\\\n",
       "\t VGFW                             & 175.5525                         & -39.25500                        & 2049.505                         & Far West                        \\\\\n",
       "\t VGTR                             & 175.5483                         & -39.29842                        & 2085.060                         & Turoa                           \\\\\n",
       "\t VGTS                             & 175.6089                         & -39.27726                        & 1766.600                         & Tukino Ski Field                \\\\\n",
       "\t VGWH                             & 175.5890                         & -39.28241                        & 2088.156                         & Whangaehu Hut                   \\\\\n",
       "\t VGWN                             & 175.5979                         & -39.32693                        & 1564.718                         & Wahianoa                        \\\\\n",
       "\t VGOB                             & 175.5422                         & -39.19984                        & 1161.260                         & Chateau Observatory             \\\\\n",
       "\\end{tabular}\n"
      ],
      "text/markdown": [
       "\n",
       "siteID | longitude | latitude | hight | name | \n",
       "|---|---|---|---|---|---|---|---|---|---|---|---|---|---|---|---|\n",
       "| RU002                            | 175.5644                         | -39.28128                        | 2529.000                         | Ruapehu Crater Lake, Whole Lake  | \n",
       "| VGDR                             | 175.5634                         | -39.27527                        | 2691.957                         | Dome                             | \n",
       "| RU001                            | 175.5654                         | -39.28350                        | 2529.000                         | Ruapehu Crater Lake Outlet       | \n",
       "| RU000                            | 175.5644                         | -39.28128                        | 2529.000                         | Ruapehu Volcano                  | \n",
       "| RU003                            | 175.5650                         | -39.28160                        | 2529.000                         | Ruapehu Crater Lake Central Vent | \n",
       "| RU010                            | 175.5422                         | -39.19984                        | 1161.000                         | Chateau Observatory              | \n",
       "| TO051                            | 175.6042                         | -39.20069                        | 1230.000                         | Tongariro, Lower Tama Lake       | \n",
       "| RU020                            | 175.5280                         | -39.22493                        | 1280.000                         | Ruapehu, Silica Rapids           | \n",
       "| RU001A                           | 175.5654                         | -39.28350                        | 2529.000                         | Ruapehu Crater Lake Outlet       | \n",
       "| RU004                            | 175.5649                         | -39.27980                        | 2529.000                         | Ruapehu Crater Lake North Vent   | \n",
       "| VGFW                             | 175.5525                         | -39.25500                        | 2049.505                         | Far West                         | \n",
       "| VGTR                             | 175.5483                         | -39.29842                        | 2085.060                         | Turoa                            | \n",
       "| VGTS                             | 175.6089                         | -39.27726                        | 1766.600                         | Tukino Ski Field                 | \n",
       "| VGWH                             | 175.5890                         | -39.28241                        | 2088.156                         | Whangaehu Hut                    | \n",
       "| VGWN                             | 175.5979                         | -39.32693                        | 1564.718                         | Wahianoa                         | \n",
       "| VGOB                             | 175.5422                         | -39.19984                        | 1161.260                         | Chateau Observatory              | \n",
       "\n",
       "\n"
      ],
      "text/plain": [
       "   siteID longitude latitude  hight    name                            \n",
       "1  RU002  175.5644  -39.28128 2529.000 Ruapehu Crater Lake, Whole Lake \n",
       "2  VGDR   175.5634  -39.27527 2691.957 Dome                            \n",
       "3  RU001  175.5654  -39.28350 2529.000 Ruapehu Crater Lake Outlet      \n",
       "4  RU000  175.5644  -39.28128 2529.000 Ruapehu Volcano                 \n",
       "5  RU003  175.5650  -39.28160 2529.000 Ruapehu Crater Lake Central Vent\n",
       "6  RU010  175.5422  -39.19984 1161.000 Chateau Observatory             \n",
       "7  TO051  175.6042  -39.20069 1230.000 Tongariro, Lower Tama Lake      \n",
       "8  RU020  175.5280  -39.22493 1280.000 Ruapehu, Silica Rapids          \n",
       "9  RU001A 175.5654  -39.28350 2529.000 Ruapehu Crater Lake Outlet      \n",
       "10 RU004  175.5649  -39.27980 2529.000 Ruapehu Crater Lake North Vent  \n",
       "11 VGFW   175.5525  -39.25500 2049.505 Far West                        \n",
       "12 VGTR   175.5483  -39.29842 2085.060 Turoa                           \n",
       "13 VGTS   175.6089  -39.27726 1766.600 Tukino Ski Field                \n",
       "14 VGWH   175.5890  -39.28241 2088.156 Whangaehu Hut                   \n",
       "15 VGWN   175.5979  -39.32693 1564.718 Wahianoa                        \n",
       "16 VGOB   175.5422  -39.19984 1161.260 Chateau Observatory             "
      ]
     },
     "metadata": {},
     "output_type": "display_data"
    }
   ],
   "source": [
    "ruapehu"
   ]
  },
  {
   "cell_type": "markdown",
   "metadata": {},
   "source": [
    "Volcano sites are set up with site ID a set format. The first 2 letter are for the volcano eg. \"RU\" for Ruapehu. Then 3 number eg. \"RU002\" is the whole crater lake on Ruapehu. The site with other formatting are more likely to be GNSS sites."
   ]
  },
  {
   "cell_type": "markdown",
   "metadata": {},
   "source": [
    "###### Save site information"
   ]
  },
  {
   "cell_type": "code",
   "execution_count": 14,
   "metadata": {},
   "outputs": [],
   "source": [
    " write.csv(ruapehu, \"ruapehu_sites.csv\")"
   ]
  },
  {
   "cell_type": "markdown",
   "metadata": {},
   "source": [
    "This will save a csv called ruapehu_sites in the folder this code is run from. "
   ]
  },
  {
   "cell_type": "markdown",
   "metadata": {},
   "source": [
    "## &nbsp; 5. Define Functions"
   ]
  },
  {
   "cell_type": "markdown",
   "metadata": {},
   "source": [
    "When we want to run code many times it is best to write it as a function. A function is a block of code that can be called later in the code with just one line of code. A function should take a set number of inputs and return some output. In R we have to define the functions before we call them. (unlike Python)"
   ]
  },
  {
   "cell_type": "markdown",
   "metadata": {},
   "source": [
    "###  &nbsp; 5.1 Get Volcano Data"
   ]
  },
  {
   "cell_type": "code",
   "execution_count": 15,
   "metadata": {},
   "outputs": [],
   "source": [
    "get_volcano_data <- function(site,type){\n",
    "    # This function takes a site ID and type ID as a strings\n",
    "    # and returns a dataframe with all the observation of that type for that site\n",
    "    \n",
    "    #Set up\n",
    "    base_url <- \"http://fits.geonet.org.nz/\"\n",
    "    endpoint <- \"observation\"\n",
    "    \n",
    "    #Get data\n",
    "    full_url <- paste(base_url,endpoint,\"?typeID=\",type,\"&siteID=\",site, sep=\"\")\n",
    "    request <- GET(full_url)\n",
    "    \n",
    "    #Unpack data into data frame\n",
    "    data <- content(request, encoding =\"UTF-8\")\n",
    "    \n",
    "    #Test if there is data in that data frame. \n",
    "    #If  there is then the data is retuned\n",
    "    if (nrow(data)>0){\n",
    "        return (data)\n",
    "    }\n",
    "    #else this fuction will return nothing \n",
    "}"
   ]
  },
  {
   "cell_type": "markdown",
   "metadata": {},
   "source": [
    "The function `get_volcano_data` takes a site ID and type ID and ruturns dataframe with all the observation if there is observation data, else it will just return nothing. This works much the same as the function in the https://github.com/JenLowe/data_tutorials/blob/master/GNSS_Data/R/Introduction_to_GNSS_data_using_FITS_in_R.ipynb notebook to get GNSS data. More on how each line is working can be found in this notebook."
   ]
  },
  {
   "cell_type": "markdown",
   "metadata": {},
   "source": [
    "### &nbsp; 5.2 Get Methods"
   ]
  },
  {
   "cell_type": "markdown",
   "metadata": {},
   "source": [
    "###### Make a function to make method data into a data frame"
   ]
  },
  {
   "cell_type": "code",
   "execution_count": 16,
   "metadata": {},
   "outputs": [],
   "source": [
    "make_method_df<- function(data){\n",
    "    #This function takes method data as a list\n",
    "    #and returns a dataframe with all the method data.\n",
    "    \n",
    "    #Initialize this data frame\n",
    "    df <- data.frame(\"methodID\" = data[[1]]$methodID,\n",
    "                     \"name \"= data[[1]]$name,\n",
    "                     \"description\" = data[[1]]$description,\n",
    "                     \"reference\" = data[[1]]$reference)\n",
    "    \n",
    "    #If the data has more then one data point \n",
    "    if (length(data)>1){\n",
    "        #Complete this data frame\n",
    "        for (i in 2:(length(data))){\n",
    "            temp <- data.frame(\"methodID\" = data[[i]]$methodID,\n",
    "                               \"name \"= data[[i]]$name,\n",
    "                               \"description\" = data[[i]]$description,\n",
    "                               \"reference\" = data[[i]]$reference)\n",
    "            df <- rbind(df, temp)\n",
    "        }\n",
    "    }\n",
    "    \n",
    "    #Return this data frame\n",
    "    return(df)\n",
    "\n",
    "}"
   ]
  },
  {
   "cell_type": "markdown",
   "metadata": {},
   "source": [
    "The function `make_method_df` makes a data frame from list data, like for the site data. It takes method data as a list and returns a dataframe with all the method data. This funtion will need to be called befor `get_method`"
   ]
  },
  {
   "cell_type": "markdown",
   "metadata": {},
   "source": [
    "###### Make a function to get method data"
   ]
  },
  {
   "cell_type": "code",
   "execution_count": 17,
   "metadata": {},
   "outputs": [],
   "source": [
    "get_method<- function(type){\n",
    "    # This function takes a type ID as a strings\n",
    "    # and returns all methods used for this type\n",
    "    \n",
    "    #Set up\n",
    "    base_url <- \"http://fits.geonet.org.nz/\"\n",
    "    endpoint <- \"method\"\n",
    "    \n",
    "    #Get Data\n",
    "    full_url <- paste(base_url,endpoint,\"?typeID=\",type, sep=\"\")\n",
    "    request <- GET(full_url)\n",
    "    \n",
    "    #Unpack data\n",
    "    data <- content(request)[[1]]\n",
    "    \n",
    "    #Make data into a data frame using above function\n",
    "    df <- make_method_df(data)\n",
    "    \n",
    "    #Return the data frame\n",
    "    return (df)\n",
    "}"
   ]
  },
  {
   "cell_type": "markdown",
   "metadata": {},
   "source": [
    "The function `get_method` takes a type ID and returns all methods used for this type. This function use the above function `make_method_df`. "
   ]
  },
  {
   "cell_type": "markdown",
   "metadata": {},
   "source": [
    "### &nbsp; 5.3 Get Volcano Data with Method"
   ]
  },
  {
   "cell_type": "code",
   "execution_count": 18,
   "metadata": {},
   "outputs": [],
   "source": [
    "get_volcano_data_with_method <- function(site,type,method){\n",
    "    # This function takes a site ID, type ID and method ID as a strings\n",
    "    # and returns a dataframe with all the observation of that type for that site\n",
    "    \n",
    "    #Set up \n",
    "    base_url <- \"http://fits.geonet.org.nz/\"\n",
    "    endpoint <- \"observation\"\n",
    "    \n",
    "    #Get Data\n",
    "    full_url <- paste(base_url,endpoint,\"?typeID=\",type,\"&siteID=\",site,\"&methodID=\", method, sep=\"\")\n",
    "    request <- GET(full_url)\n",
    "    \n",
    "    #Unpack data\n",
    "    data <- content(request, encoding =\"UTF-8\")\n",
    "    \n",
    "    #Test if there is data in that data frame. \n",
    "    #If  there is then the data is retuned\n",
    "    if (nrow(data)>0){\n",
    "        return (data)\n",
    "    }\n",
    "    #else this fuction will return nothing\n",
    "}"
   ]
  },
  {
   "cell_type": "markdown",
   "metadata": {},
   "source": [
    "The function `get_volcano_data_with_method` works much like `get_volcano_data but` also takes a method ID and returns data taken with that method"
   ]
  },
  {
   "cell_type": "markdown",
   "metadata": {},
   "source": [
    "## &nbsp; 6. Chlorine Example"
   ]
  },
  {
   "cell_type": "markdown",
   "metadata": {},
   "source": [
    "In this example we look at geting data about the Chlorine levels in the water of Ruapehu's Crater Lake. We look at geting all the data the GeoNet has then triming this data to look at only a set time. "
   ]
  },
  {
   "cell_type": "markdown",
   "metadata": {},
   "source": [
    "You can find a list of type ID at (git hub link), or at http://fits.geonet.org.nz/type (for best formatting use firefox) but most of the type ID are in the format (chemical formula)-(g/w) where g is for gas and w is for water. e.g. Cl-w is for Chlorine in water. "
   ]
  },
  {
   "cell_type": "markdown",
   "metadata": {},
   "source": [
    "###### Set the type to the type ID for Chlorine in water."
   ]
  },
  {
   "cell_type": "code",
   "execution_count": 19,
   "metadata": {},
   "outputs": [],
   "source": [
    "type <- \"Cl-w\""
   ]
  },
  {
   "cell_type": "markdown",
   "metadata": {},
   "source": [
    "### &nbsp; 6.1 Get Cl Data for Ruapehu"
   ]
  },
  {
   "cell_type": "markdown",
   "metadata": {},
   "source": [
    "###### Get data for all site found in part 4 of this notebook "
   ]
  },
  {
   "cell_type": "code",
   "execution_count": null,
   "metadata": {},
   "outputs": [],
   "source": [
    "#Initialize a list to put the data in later\n",
    "Cl <- list()\n",
    "#loop over each site ID that we found in part 4 of this notebook \n",
    "for (i in 1:nrow(ruapehu)){ \n",
    "    #get the siteID out of the ruapehu data frame and make sure it is a string\n",
    "    site<- toString(ruapehu$siteID[[i]])\n",
    "    # use the get_volcano_data funtion to get the data and save it with the key of the site's ID\n",
    "    Cl[[site]]<- get_volcano_data(site,type)\n",
    "    }"
   ]
  },
  {
   "cell_type": "markdown",
   "metadata": {},
   "source": [
    "The above code loops over the siteIDs and and runs `get_volcano_data` so that if it there is data for that site then it is saves into `Cl` with the \"key\" as the siteID "
   ]
  },
  {
   "cell_type": "markdown",
   "metadata": {},
   "source": [
    "###### Print some information about the data"
   ]
  },
  {
   "cell_type": "code",
   "execution_count": 21,
   "metadata": {},
   "outputs": [
    {
     "name": "stdout",
     "output_type": "stream",
     "text": [
      "[1] \"RU001 has 493 data points from 1954-01-22 to 2018-12-18\"\n",
      "[1] \"RU003 has 158 data points from 1998-03-17 to 2018-12-18\"\n",
      "[1] \"TO051 has 26 data points from 1981-12-06 to 2018-05-10\"\n",
      "[1] \"RU020 has 23 data points from 1990-03-18 to 2018-05-30\"\n",
      "[1] \"RU004 has 66 data points from 1991-01-13 to 2018-12-18\"\n"
     ]
    }
   ],
   "source": [
    "for (i in 1:length(Cl)){\n",
    "    print (paste(names(Cl)[i],\"has\",\n",
    "                 nrow((Cl)[[i]]), \"data points from\", \n",
    "                 min(Cl[[i]]$'date-time'), \"to\",\n",
    "                 max(Cl[[i]]$'date-time')))\n",
    "    }"
   ]
  },
  {
   "cell_type": "markdown",
   "metadata": {},
   "source": [
    "The above code loops over the list `Cl` and for each item prints its name (siteID), number of data points and the maximum and minimum dates for that site. "
   ]
  },
  {
   "cell_type": "markdown",
   "metadata": {},
   "source": [
    "### &nbsp; 6.2 Save Cl Data for Ruapehu"
   ]
  },
  {
   "cell_type": "code",
   "execution_count": 22,
   "metadata": {},
   "outputs": [],
   "source": [
    "for (i in 1:length(Cl)){\n",
    "    write.csv(Cl[[i]], paste(names(Cl)[i], \"Cl_in_ruapehu.csv\"))\n",
    "    }"
   ]
  },
  {
   "cell_type": "markdown",
   "metadata": {},
   "source": [
    "This `for` loop make a cvs file for each site. The csv will be named after the site ID. eg. The csv with the data from RU001 with be named RU001_Cl_in_ruapehu.csv"
   ]
  },
  {
   "cell_type": "markdown",
   "metadata": {},
   "source": [
    "### &nbsp; 6.3 Trim Cl Data for Ruapehu"
   ]
  },
  {
   "cell_type": "markdown",
   "metadata": {},
   "source": [
    "Sometime we only want to look at the data for a small window of time. To do this we can trim the data. "
   ]
  },
  {
   "cell_type": "markdown",
   "metadata": {},
   "source": [
    "###### Set the dates you want to look between"
   ]
  },
  {
   "cell_type": "code",
   "execution_count": 23,
   "metadata": {},
   "outputs": [],
   "source": [
    "start<- as.POSIXct(\"2018-01-01\")\n",
    "end<- as.POSIXct(\"2019-01-01\")"
   ]
  },
  {
   "cell_type": "markdown",
   "metadata": {},
   "source": [
    "`as.POSIXct` makes sure that the dates are in the right format. Here we are looking for all data in the year 2018"
   ]
  },
  {
   "cell_type": "markdown",
   "metadata": {},
   "source": [
    "###### Trim data"
   ]
  },
  {
   "cell_type": "code",
   "execution_count": 24,
   "metadata": {},
   "outputs": [],
   "source": [
    "for (i in 1:length(Cl)){\n",
    "    to_keep <- (start < Cl[[i]]$'date-time' & end > Cl[[i]]$'date-time' )\n",
    "    Cl[[i]]<- Cl[[i]][to_keep,]\n",
    "}"
   ]
  },
  {
   "cell_type": "markdown",
   "metadata": {},
   "source": [
    "The above code loops over each sites data, and works out what rows of data the date is betwen the start and end date. It then save just these rows back to the list `Cl`"
   ]
  },
  {
   "cell_type": "markdown",
   "metadata": {},
   "source": [
    "###### Print data"
   ]
  },
  {
   "cell_type": "code",
   "execution_count": 25,
   "metadata": {
    "scrolled": false
   },
   "outputs": [
    {
     "data": {
      "text/html": [
       "<dl>\n",
       "\t<dt>$RU001</dt>\n",
       "\t\t<dd><table>\n",
       "<thead><tr><th scope=col>date-time</th><th scope=col>Cl-w (mg/L)</th><th scope=col>error (mg/L)</th></tr></thead>\n",
       "<tbody>\n",
       "\t<tr><td>2018-02-23</td><td>5764      </td><td>0         </td></tr>\n",
       "\t<tr><td>2018-03-26</td><td>5618      </td><td>0         </td></tr>\n",
       "\t<tr><td>2018-06-10</td><td>5548      </td><td>0         </td></tr>\n",
       "\t<tr><td>2018-12-18</td><td>5924      </td><td>0         </td></tr>\n",
       "</tbody>\n",
       "</table>\n",
       "</dd>\n",
       "\t<dt>$RU003</dt>\n",
       "\t\t<dd><table>\n",
       "<thead><tr><th scope=col>date-time</th><th scope=col>Cl-w (mg/L)</th><th scope=col>error (mg/L)</th></tr></thead>\n",
       "<tbody>\n",
       "\t<tr><td>2018-02-23 00:00:00</td><td>5531               </td><td>0                  </td></tr>\n",
       "\t<tr><td>2018-03-26 00:00:00</td><td>5648               </td><td>0                  </td></tr>\n",
       "\t<tr><td>2018-05-10 00:00:00</td><td>5568               </td><td>0                  </td></tr>\n",
       "\t<tr><td>2018-06-10 00:00:00</td><td>5526               </td><td>0                  </td></tr>\n",
       "\t<tr><td>2018-06-10 00:15:00</td><td>5507               </td><td>0                  </td></tr>\n",
       "\t<tr><td>2018-08-27 00:00:00</td><td>5679               </td><td>0                  </td></tr>\n",
       "\t<tr><td>2018-09-23 00:00:00</td><td>5766               </td><td>0                  </td></tr>\n",
       "\t<tr><td>2018-10-19 00:00:00</td><td>5735               </td><td>0                  </td></tr>\n",
       "\t<tr><td>2018-10-19 00:15:00</td><td>5784               </td><td>0                  </td></tr>\n",
       "\t<tr><td>2018-12-18 00:00:00</td><td>5864               </td><td>0                  </td></tr>\n",
       "</tbody>\n",
       "</table>\n",
       "</dd>\n",
       "\t<dt>$TO051</dt>\n",
       "\t\t<dd><table>\n",
       "<thead><tr><th scope=col>date-time</th><th scope=col>Cl-w (mg/L)</th><th scope=col>error (mg/L)</th></tr></thead>\n",
       "<tbody>\n",
       "\t<tr><td>2018-05-10</td><td>0.94      </td><td>0         </td></tr>\n",
       "</tbody>\n",
       "</table>\n",
       "</dd>\n",
       "\t<dt>$RU020</dt>\n",
       "\t\t<dd><table>\n",
       "<thead><tr><th scope=col>date-time</th><th scope=col>Cl-w (mg/L)</th><th scope=col>error (mg/L)</th></tr></thead>\n",
       "<tbody>\n",
       "\t<tr><td>2018-05-30</td><td>7.7       </td><td>0         </td></tr>\n",
       "</tbody>\n",
       "</table>\n",
       "</dd>\n",
       "\t<dt>$RU004</dt>\n",
       "\t\t<dd><table>\n",
       "<thead><tr><th scope=col>date-time</th><th scope=col>Cl-w (mg/L)</th><th scope=col>error (mg/L)</th></tr></thead>\n",
       "<tbody>\n",
       "\t<tr><td>2018-02-23</td><td>5578      </td><td>0         </td></tr>\n",
       "\t<tr><td>2018-03-26</td><td>5646      </td><td>0         </td></tr>\n",
       "\t<tr><td>2018-05-10</td><td>5570      </td><td>0         </td></tr>\n",
       "\t<tr><td>2018-08-27</td><td>5628      </td><td>0         </td></tr>\n",
       "\t<tr><td>2018-09-23</td><td>5692      </td><td>0         </td></tr>\n",
       "\t<tr><td>2018-12-18</td><td>5947      </td><td>0         </td></tr>\n",
       "</tbody>\n",
       "</table>\n",
       "</dd>\n",
       "</dl>\n"
      ],
      "text/latex": [
       "\\begin{description}\n",
       "\\item[\\$RU001] \\begin{tabular}{r|lll}\n",
       " date-time & Cl-w (mg/L) & error (mg/L)\\\\\n",
       "\\hline\n",
       "\t 2018-02-23 & 5764       & 0         \\\\\n",
       "\t 2018-03-26 & 5618       & 0         \\\\\n",
       "\t 2018-06-10 & 5548       & 0         \\\\\n",
       "\t 2018-12-18 & 5924       & 0         \\\\\n",
       "\\end{tabular}\n",
       "\n",
       "\\item[\\$RU003] \\begin{tabular}{r|lll}\n",
       " date-time & Cl-w (mg/L) & error (mg/L)\\\\\n",
       "\\hline\n",
       "\t 2018-02-23 00:00:00 & 5531                & 0                  \\\\\n",
       "\t 2018-03-26 00:00:00 & 5648                & 0                  \\\\\n",
       "\t 2018-05-10 00:00:00 & 5568                & 0                  \\\\\n",
       "\t 2018-06-10 00:00:00 & 5526                & 0                  \\\\\n",
       "\t 2018-06-10 00:15:00 & 5507                & 0                  \\\\\n",
       "\t 2018-08-27 00:00:00 & 5679                & 0                  \\\\\n",
       "\t 2018-09-23 00:00:00 & 5766                & 0                  \\\\\n",
       "\t 2018-10-19 00:00:00 & 5735                & 0                  \\\\\n",
       "\t 2018-10-19 00:15:00 & 5784                & 0                  \\\\\n",
       "\t 2018-12-18 00:00:00 & 5864                & 0                  \\\\\n",
       "\\end{tabular}\n",
       "\n",
       "\\item[\\$TO051] \\begin{tabular}{r|lll}\n",
       " date-time & Cl-w (mg/L) & error (mg/L)\\\\\n",
       "\\hline\n",
       "\t 2018-05-10 & 0.94       & 0         \\\\\n",
       "\\end{tabular}\n",
       "\n",
       "\\item[\\$RU020] \\begin{tabular}{r|lll}\n",
       " date-time & Cl-w (mg/L) & error (mg/L)\\\\\n",
       "\\hline\n",
       "\t 2018-05-30 & 7.7        & 0         \\\\\n",
       "\\end{tabular}\n",
       "\n",
       "\\item[\\$RU004] \\begin{tabular}{r|lll}\n",
       " date-time & Cl-w (mg/L) & error (mg/L)\\\\\n",
       "\\hline\n",
       "\t 2018-02-23 & 5578       & 0         \\\\\n",
       "\t 2018-03-26 & 5646       & 0         \\\\\n",
       "\t 2018-05-10 & 5570       & 0         \\\\\n",
       "\t 2018-08-27 & 5628       & 0         \\\\\n",
       "\t 2018-09-23 & 5692       & 0         \\\\\n",
       "\t 2018-12-18 & 5947       & 0         \\\\\n",
       "\\end{tabular}\n",
       "\n",
       "\\end{description}\n"
      ],
      "text/markdown": [
       "$RU001\n",
       ":   \n",
       "date-time | Cl-w (mg/L) | error (mg/L) | \n",
       "|---|---|---|---|\n",
       "| 2018-02-23 | 5764       | 0          | \n",
       "| 2018-03-26 | 5618       | 0          | \n",
       "| 2018-06-10 | 5548       | 0          | \n",
       "| 2018-12-18 | 5924       | 0          | \n",
       "\n",
       "\n",
       "\n",
       "$RU003\n",
       ":   \n",
       "date-time | Cl-w (mg/L) | error (mg/L) | \n",
       "|---|---|---|---|---|---|---|---|---|---|\n",
       "| 2018-02-23 00:00:00 | 5531                | 0                   | \n",
       "| 2018-03-26 00:00:00 | 5648                | 0                   | \n",
       "| 2018-05-10 00:00:00 | 5568                | 0                   | \n",
       "| 2018-06-10 00:00:00 | 5526                | 0                   | \n",
       "| 2018-06-10 00:15:00 | 5507                | 0                   | \n",
       "| 2018-08-27 00:00:00 | 5679                | 0                   | \n",
       "| 2018-09-23 00:00:00 | 5766                | 0                   | \n",
       "| 2018-10-19 00:00:00 | 5735                | 0                   | \n",
       "| 2018-10-19 00:15:00 | 5784                | 0                   | \n",
       "| 2018-12-18 00:00:00 | 5864                | 0                   | \n",
       "\n",
       "\n",
       "\n",
       "$TO051\n",
       ":   \n",
       "date-time | Cl-w (mg/L) | error (mg/L) | \n",
       "|---|\n",
       "| 2018-05-10 | 0.94       | 0          | \n",
       "\n",
       "\n",
       "\n",
       "$RU020\n",
       ":   \n",
       "date-time | Cl-w (mg/L) | error (mg/L) | \n",
       "|---|\n",
       "| 2018-05-30 | 7.7        | 0          | \n",
       "\n",
       "\n",
       "\n",
       "$RU004\n",
       ":   \n",
       "date-time | Cl-w (mg/L) | error (mg/L) | \n",
       "|---|---|---|---|---|---|\n",
       "| 2018-02-23 | 5578       | 0          | \n",
       "| 2018-03-26 | 5646       | 0          | \n",
       "| 2018-05-10 | 5570       | 0          | \n",
       "| 2018-08-27 | 5628       | 0          | \n",
       "| 2018-09-23 | 5692       | 0          | \n",
       "| 2018-12-18 | 5947       | 0          | \n",
       "\n",
       "\n",
       "\n",
       "\n",
       "\n"
      ],
      "text/plain": [
       "$RU001\n",
       "# A tibble: 4 x 3\n",
       "  `date-time`         `Cl-w (mg/L)` `error (mg/L)`\n",
       "  <dttm>                      <dbl>          <dbl>\n",
       "1 2018-02-23 00:00:00          5764              0\n",
       "2 2018-03-26 00:00:00          5618              0\n",
       "3 2018-06-10 00:00:00          5548              0\n",
       "4 2018-12-18 00:00:00          5924              0\n",
       "\n",
       "$RU003\n",
       "# A tibble: 10 x 3\n",
       "   `date-time`         `Cl-w (mg/L)` `error (mg/L)`\n",
       "   <dttm>                      <dbl>          <dbl>\n",
       " 1 2018-02-23 00:00:00          5531              0\n",
       " 2 2018-03-26 00:00:00          5648              0\n",
       " 3 2018-05-10 00:00:00          5568              0\n",
       " 4 2018-06-10 00:00:00          5526              0\n",
       " 5 2018-06-10 00:15:00          5507              0\n",
       " 6 2018-08-27 00:00:00          5679              0\n",
       " 7 2018-09-23 00:00:00          5766              0\n",
       " 8 2018-10-19 00:00:00          5735              0\n",
       " 9 2018-10-19 00:15:00          5784              0\n",
       "10 2018-12-18 00:00:00          5864              0\n",
       "\n",
       "$TO051\n",
       "# A tibble: 1 x 3\n",
       "  `date-time`         `Cl-w (mg/L)` `error (mg/L)`\n",
       "  <dttm>                      <dbl>          <dbl>\n",
       "1 2018-05-10 00:00:00          0.94              0\n",
       "\n",
       "$RU020\n",
       "# A tibble: 1 x 3\n",
       "  `date-time`         `Cl-w (mg/L)` `error (mg/L)`\n",
       "  <dttm>                      <dbl>          <dbl>\n",
       "1 2018-05-30 00:00:00           7.7              0\n",
       "\n",
       "$RU004\n",
       "# A tibble: 6 x 3\n",
       "  `date-time`         `Cl-w (mg/L)` `error (mg/L)`\n",
       "  <dttm>                      <dbl>          <dbl>\n",
       "1 2018-02-23 00:00:00          5578              0\n",
       "2 2018-03-26 00:00:00          5646              0\n",
       "3 2018-05-10 00:00:00          5570              0\n",
       "4 2018-08-27 00:00:00          5628              0\n",
       "5 2018-09-23 00:00:00          5692              0\n",
       "6 2018-12-18 00:00:00          5947              0\n"
      ]
     },
     "metadata": {},
     "output_type": "display_data"
    }
   ],
   "source": [
    "Cl"
   ]
  },
  {
   "cell_type": "markdown",
   "metadata": {},
   "source": [
    "## &nbsp; 7. Sulphur Dioxide Flux Example"
   ]
  },
  {
   "cell_type": "markdown",
   "metadata": {},
   "source": [
    "In this example we look at geting data about SO2 flux above Ruapehu. GeoNet uses mutiple methods to get gases from above volcanos so we look at the methods used and find what method was used for each sample"
   ]
  },
  {
   "cell_type": "markdown",
   "metadata": {},
   "source": [
    "###### Set the type to be the ID of Sulphur Dioxide Flux in air. "
   ]
  },
  {
   "cell_type": "code",
   "execution_count": 26,
   "metadata": {},
   "outputs": [],
   "source": [
    "type <- \"SO2-flux-a\""
   ]
  },
  {
   "cell_type": "markdown",
   "metadata": {},
   "source": [
    "### &nbsp; 7.1 Get SO2 Flux Data for Ruapehu"
   ]
  },
  {
   "cell_type": "code",
   "execution_count": null,
   "metadata": {},
   "outputs": [],
   "source": [
    "#Initialize a list to put the data in later\n",
    "SO2_flux <- list()\n",
    "#loop over each site ID that we found in part 4 of this notebook \n",
    "for (i in 1:nrow(ruapehu)){\n",
    "    #get the siteID out of the ruapehu data frame and make sure it is a string\n",
    "    site<- toString(ruapehu$siteID[[i]])\n",
    "    #use the get_volcano_data funtion to get the data and save it with the key of the site's ID\n",
    "    SO2_flux[[site]]<- get_volcano_data(site,type)\n",
    "    }"
   ]
  },
  {
   "cell_type": "markdown",
   "metadata": {},
   "source": [
    "The above code loops over the siteIDs and and runs `get_volcano_data` so that if it there is data for that site then it is saves into `SO2_flux` with the \"key\" as the siteID "
   ]
  },
  {
   "cell_type": "markdown",
   "metadata": {},
   "source": [
    "###### Print some information about the data"
   ]
  },
  {
   "cell_type": "code",
   "execution_count": 28,
   "metadata": {},
   "outputs": [
    {
     "name": "stdout",
     "output_type": "stream",
     "text": [
      "[1] \"RU000 has 228 data points from 2003-05-27 to 2018-11-23\"\n"
     ]
    }
   ],
   "source": [
    "for (i in 1:length(SO2_flux)){\n",
    "    print (paste(names(SO2_flux)[i],\"has\",\n",
    "                 nrow((SO2_flux)[[i]]), \"data points from\", \n",
    "                 min(SO2_flux[[i]]$'date-time'), \"to\",\n",
    "                 max(SO2_flux[[i]]$'date-time')))\n",
    "    }"
   ]
  },
  {
   "cell_type": "markdown",
   "metadata": {},
   "source": [
    "The above code loops over the list `SO2_flux` and for each item prints its name (siteID), number of data points and the maximum and minimum dates for that site. "
   ]
  },
  {
   "cell_type": "markdown",
   "metadata": {},
   "source": [
    "### &nbsp; 7.2 Get Methods Used for SO2 Flux for Ruapehu"
   ]
  },
  {
   "cell_type": "markdown",
   "metadata": {},
   "source": [
    "###### Get the methods for this type ID"
   ]
  },
  {
   "cell_type": "code",
   "execution_count": 29,
   "metadata": {},
   "outputs": [],
   "source": [
    "methods<- get_method(type)"
   ]
  },
  {
   "cell_type": "markdown",
   "metadata": {},
   "source": [
    "The code above runs the `get_method` funtion."
   ]
  },
  {
   "cell_type": "markdown",
   "metadata": {},
   "source": [
    "###### Print method data"
   ]
  },
  {
   "cell_type": "code",
   "execution_count": 30,
   "metadata": {
    "scrolled": true
   },
   "outputs": [
    {
     "data": {
      "text/html": [
       "<table>\n",
       "<thead><tr><th scope=col>methodID</th><th scope=col>name.</th><th scope=col>description</th><th scope=col>reference</th></tr></thead>\n",
       "<tbody>\n",
       "\t<tr><td>cont                                                                                                                                                </td><td>contouring                                                                                                                                          </td><td>aircraft flies through a plume at different altitudes, a pump inside the aircraft sucks in gases and instruments measure the concentration          </td><td>http://info.geonet.org.nz/display/volc/Gas                                                                                                          </td></tr>\n",
       "\t<tr><td>cosp                                                                                                                                                </td><td>cospec                                                                                                                                              </td><td>correlation spectrometer measures absorption of ultraviolet light by SO2, flying beneath a plume                                                    </td><td>http://info.geonet.org.nz/display/volc/Gas                                                                                                          </td></tr>\n",
       "\t<tr><td>flsp                                                                                                                                                </td><td>flyspec                                                                                                                                             </td><td>miniaturized UV spectrometer system measures absorption of ultraviolet light by SO2, flying beneath a plume                                         </td><td>http://info.geonet.org.nz/display/volc/Gas, http://www.flyspec-inc.com/                                                                             </td></tr>\n",
       "\t<tr><td>sflsp                                                                                                                                               </td><td>scanning-flyspec                                                                                                                                    </td><td>miniaturized UV spectrometer system measures absorption of ultraviolet light by SO2. Stationary ground-based system scanning from horizon to horizon</td><td>                                                                                                                                                    </td></tr>\n",
       "\t<tr><td>mdoas-ah                                                                                                                                            </td><td>mini-doas assumed plume height                                                                                                                      </td><td>miniature differential optical absorption spectrometer, plume visible on only one scanner, plume height assumed                                     </td><td>http://www.geo.mtu.edu/volcanoes/vc_web/tools/doas_1.html                                                                                           </td></tr>\n",
       "\t<tr><td>mdoas-ch                                                                                                                                            </td><td>mini-doas calculated plume height                                                                                                                   </td><td>miniature differential optical absorption spectrometer, plume visible on more than one scanner, plume height calculated                             </td><td>http://www.geo.mtu.edu/volcanoes/vc_web/tools/doas_1.html                                                                                           </td></tr>\n",
       "</tbody>\n",
       "</table>\n"
      ],
      "text/latex": [
       "\\begin{tabular}{r|llll}\n",
       " methodID & name. & description & reference\\\\\n",
       "\\hline\n",
       "\t cont                                                                                                                                                 & contouring                                                                                                                                           & aircraft flies through a plume at different altitudes, a pump inside the aircraft sucks in gases and instruments measure the concentration           & http://info.geonet.org.nz/display/volc/Gas                                                                                                          \\\\\n",
       "\t cosp                                                                                                                                                 & cospec                                                                                                                                               & correlation spectrometer measures absorption of ultraviolet light by SO2, flying beneath a plume                                                     & http://info.geonet.org.nz/display/volc/Gas                                                                                                          \\\\\n",
       "\t flsp                                                                                                                                                 & flyspec                                                                                                                                              & miniaturized UV spectrometer system measures absorption of ultraviolet light by SO2, flying beneath a plume                                          & http://info.geonet.org.nz/display/volc/Gas, http://www.flyspec-inc.com/                                                                             \\\\\n",
       "\t sflsp                                                                                                                                                & scanning-flyspec                                                                                                                                     & miniaturized UV spectrometer system measures absorption of ultraviolet light by SO2. Stationary ground-based system scanning from horizon to horizon &                                                                                                                                                     \\\\\n",
       "\t mdoas-ah                                                                                                                                             & mini-doas assumed plume height                                                                                                                       & miniature differential optical absorption spectrometer, plume visible on only one scanner, plume height assumed                                      & http://www.geo.mtu.edu/volcanoes/vc\\_web/tools/doas\\_1.html                                                                                       \\\\\n",
       "\t mdoas-ch                                                                                                                                             & mini-doas calculated plume height                                                                                                                    & miniature differential optical absorption spectrometer, plume visible on more than one scanner, plume height calculated                              & http://www.geo.mtu.edu/volcanoes/vc\\_web/tools/doas\\_1.html                                                                                       \\\\\n",
       "\\end{tabular}\n"
      ],
      "text/markdown": [
       "\n",
       "methodID | name. | description | reference | \n",
       "|---|---|---|---|---|---|\n",
       "| cont                                                                                                                                                 | contouring                                                                                                                                           | aircraft flies through a plume at different altitudes, a pump inside the aircraft sucks in gases and instruments measure the concentration           | http://info.geonet.org.nz/display/volc/Gas                                                                                                           | \n",
       "| cosp                                                                                                                                                 | cospec                                                                                                                                               | correlation spectrometer measures absorption of ultraviolet light by SO2, flying beneath a plume                                                     | http://info.geonet.org.nz/display/volc/Gas                                                                                                           | \n",
       "| flsp                                                                                                                                                 | flyspec                                                                                                                                              | miniaturized UV spectrometer system measures absorption of ultraviolet light by SO2, flying beneath a plume                                          | http://info.geonet.org.nz/display/volc/Gas, http://www.flyspec-inc.com/                                                                              | \n",
       "| sflsp                                                                                                                                                | scanning-flyspec                                                                                                                                     | miniaturized UV spectrometer system measures absorption of ultraviolet light by SO2. Stationary ground-based system scanning from horizon to horizon |                                                                                                                                                      | \n",
       "| mdoas-ah                                                                                                                                             | mini-doas assumed plume height                                                                                                                       | miniature differential optical absorption spectrometer, plume visible on only one scanner, plume height assumed                                      | http://www.geo.mtu.edu/volcanoes/vc_web/tools/doas_1.html                                                                                            | \n",
       "| mdoas-ch                                                                                                                                             | mini-doas calculated plume height                                                                                                                    | miniature differential optical absorption spectrometer, plume visible on more than one scanner, plume height calculated                              | http://www.geo.mtu.edu/volcanoes/vc_web/tools/doas_1.html                                                                                            | \n",
       "\n",
       "\n"
      ],
      "text/plain": [
       "  methodID name.                            \n",
       "1 cont     contouring                       \n",
       "2 cosp     cospec                           \n",
       "3 flsp     flyspec                          \n",
       "4 sflsp    scanning-flyspec                 \n",
       "5 mdoas-ah mini-doas assumed plume height   \n",
       "6 mdoas-ch mini-doas calculated plume height\n",
       "  description                                                                                                                                         \n",
       "1 aircraft flies through a plume at different altitudes, a pump inside the aircraft sucks in gases and instruments measure the concentration          \n",
       "2 correlation spectrometer measures absorption of ultraviolet light by SO2, flying beneath a plume                                                    \n",
       "3 miniaturized UV spectrometer system measures absorption of ultraviolet light by SO2, flying beneath a plume                                         \n",
       "4 miniaturized UV spectrometer system measures absorption of ultraviolet light by SO2. Stationary ground-based system scanning from horizon to horizon\n",
       "5 miniature differential optical absorption spectrometer, plume visible on only one scanner, plume height assumed                                     \n",
       "6 miniature differential optical absorption spectrometer, plume visible on more than one scanner, plume height calculated                             \n",
       "  reference                                                              \n",
       "1 http://info.geonet.org.nz/display/volc/Gas                             \n",
       "2 http://info.geonet.org.nz/display/volc/Gas                             \n",
       "3 http://info.geonet.org.nz/display/volc/Gas, http://www.flyspec-inc.com/\n",
       "4                                                                        \n",
       "5 http://www.geo.mtu.edu/volcanoes/vc_web/tools/doas_1.html              \n",
       "6 http://www.geo.mtu.edu/volcanoes/vc_web/tools/doas_1.html              "
      ]
     },
     "metadata": {},
     "output_type": "display_data"
    }
   ],
   "source": [
    "methods"
   ]
  },
  {
   "cell_type": "markdown",
   "metadata": {},
   "source": [
    "### &nbsp; 7.3 Get SO2 Flux Data with methods for Ruapehu"
   ]
  },
  {
   "cell_type": "code",
   "execution_count": null,
   "metadata": {},
   "outputs": [],
   "source": [
    "#Initialize a list to put the data in later\n",
    "SO2_flux_methods<-list()\n",
    "#loop over each method\n",
    "for (i in 1:nrow(methods)){\n",
    "    #get the method ID out of the method data and make sure it is a string\n",
    "    method<- toString(methods[i,]$\"methodID\")\n",
    "    #use the get_volcano_data_with_method funtion to get the data and save it with the key of the method's ID\n",
    "    SO2_flux_methods[[method]]<- get_volcano_data_with_method(\"RU000\",type,method)\n",
    "}"
   ]
  },
  {
   "cell_type": "markdown",
   "metadata": {},
   "source": [
    "The above code loops over the methodIDs and and runs `get_volcano_data_with_method` so that if it there is data for that method then it is saves into `SO2_flux_methods` with the \"key\" as the method"
   ]
  },
  {
   "cell_type": "markdown",
   "metadata": {},
   "source": [
    "###### Print some information about the data"
   ]
  },
  {
   "cell_type": "code",
   "execution_count": 32,
   "metadata": {},
   "outputs": [
    {
     "name": "stdout",
     "output_type": "stream",
     "text": [
      "[1] \"cont has 93 data points from 2004-04-21 to 2018-11-23\"\n",
      "[1] \"cosp has 100 data points from 2003-05-27 to 2018-10-16\"\n",
      "[1] \"flsp has 35 data points from 2008-08-11 to 2013-11-25\"\n"
     ]
    }
   ],
   "source": [
    "for (i in 1:length(SO2_flux_methods)){\n",
    "    print (paste(names(SO2_flux_methods)[i],\"has\",\n",
    "                 nrow((SO2_flux_methods)[[i]]), \"data points from\", \n",
    "                 min(SO2_flux_methods[[i]]$'date-time'), \"to\",\n",
    "                 max(SO2_flux_methods[[i]]$'date-time')))\n",
    "    }"
   ]
  },
  {
   "cell_type": "markdown",
   "metadata": {},
   "source": [
    "The above code loops over the list `SO2_flux_methods` and for each item prints its name (methodID), number of data points and the maximum and minimum dates for that method"
   ]
  },
  {
   "cell_type": "markdown",
   "metadata": {},
   "source": [
    "### &nbsp; 7.4  Plot SO2 Flux with Methods"
   ]
  },
  {
   "cell_type": "code",
   "execution_count": 33,
   "metadata": {
    "scrolled": false
   },
   "outputs": [
    {
     "data": {
      "image/png": "[encoded data removed]",
      "text/plain": [
       "Plot with title \"Sulphur Dioxide flux in air for RU000\""
      ]
     },
     "metadata": {},
     "output_type": "display_data"
    }
   ],
   "source": [
    "#make the title of the graph\n",
    "title <- paste(\"Sulphur Dioxide flux in air for\", names(SO2_flux)[1])\n",
    "\n",
    "#make the plot with one set of data on it\n",
    "plot(SO2_flux_methods[[\"cont\"]]$'date-time', SO2_flux_methods[[\"cont\"]]$'SO2-flux-a (kg/s)',\n",
    "     main=title , xlab = \"Date\", ylab = \"SO2 flux (kg/s)\",pch = 16, col = \"red\")\n",
    "\n",
    "#add the other 2 data sets to the plot \n",
    "points(SO2_flux_methods[[\"cosp\"]]$'date-time', SO2_flux_methods[[\"cosp\"]]$'SO2-flux-a (kg/s)',pch = 16, col = \"blue\")\n",
    "points(SO2_flux_methods[[\"flsp\"]]$'date-time', SO2_flux_methods[[\"flsp\"]]$'SO2-flux-a (kg/s)',pch = 16, col = \"green\")\n",
    "\n",
    "#add a key to the plot\n",
    "legend(\"topleft\",inset=.02, legend=c(\"Contouring\", \"Cospec\", \"Flyspec\"),col=c(\"red\", \"blue\", \"green\"),pch = 16, cex=1)"
   ]
  },
  {
   "cell_type": "markdown",
   "metadata": {},
   "source": [
    "`SO2_flux_methods[[\"cont\"]]` say call the dataframe with name \"cont\". We named each dataframe the same as it methodID, so this calls the data from the method \"cont\"<br>\n",
    "The data `SO2_flux_methods[[\"cont\"]]$'date-time'` is the date. This is set to be on the x axis. ` SO2_flux_methods[[\"cont\"]]$'SO2-flux-a (kg/s)'` is the value messuered. This is set to be on the y axis. ` xlab = \"Date\", ylab = \"SO2 flux (kg/s)\"` give the graph its x and y axis titles. `pch  = 16` says that each data point will be put on the graph as a circle filled in point. `col = ` gives each point its color so each method can have a diffent color. \n",
    "`legend` adds a key to the graph. \n",
    "To save this plot right click on it in this notebook"
   ]
  },
  {
   "cell_type": "markdown",
   "metadata": {},
   "source": [
    "## Useful links"
   ]
  },
  {
   "cell_type": "markdown",
   "metadata": {},
   "source": [
    "<ul>\n",
    "    <li>This notebook uses the language R https://www.r-project.org/\n",
    "    <li>This notebook uses the library httr https://cran.r-project.org/web/packages/httr/vignettes/quickstart.html\n",
    "    <li>To understand more about data frames go to https://www.rdocumentation.org/packages/base/versions/3.5.1/topics/data.frame\n",
    "    <li>To understand the `get_volcano_data` function go to (right place in github)\n",
    "    <li>To learn more about the packages geojsonR go to https://cran.r-project.org/web/packages/geojsonR/geojsonR.pdf  \n",
    "    <li>More tutorials on volcano data can be found at (link to right place in github) \n",
    "    <li>For more on data types in FITS go to http://fits.geonet.org.nz/type (for best formatting use firefox)\n",
    "    <li>For more on FITS go to https://fits.geonet.org.nz/api-docs/    \n",
    "</ul>"
   ]
  }
 ],
 "metadata": {
  "kernelspec": {
   "display_name": "R",
   "language": "R",
   "name": "ir"
  },
  "language_info": {
   "codemirror_mode": "r",
   "file_extension": ".r",
   "mimetype": "text/x-r-source",
   "name": "R",
   "pygments_lexer": "r",
   "version": "3.5.1"
  }
 },
 "nbformat": 4,
 "nbformat_minor": 2
}
